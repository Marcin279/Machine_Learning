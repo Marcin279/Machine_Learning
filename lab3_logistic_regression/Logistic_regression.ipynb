{
 "cells": [
  {
   "cell_type": "markdown",
   "id": "e5d6b0ba",
   "metadata": {},
   "source": [
    "# Logistic Regression\n",
    "\n",
    "## Marcin Biela"
   ]
  },
  {
   "cell_type": "code",
   "execution_count": 1353,
   "id": "5da25441",
   "metadata": {},
   "outputs": [],
   "source": [
    "import numpy as np\n",
    "import pandas as pd\n",
    "import matplotlib.pyplot as plt\n",
    " \n",
    "import os\n",
    "path = os.getcwd() + '/ex2data1.txt'\n",
    "data = pd.read_csv(path, header=None, names=['Exam 1', 'Exam 2', 'Admitted'])"
   ]
  },
  {
   "cell_type": "code",
   "execution_count": 1354,
   "id": "f7dec6af",
   "metadata": {},
   "outputs": [
    {
     "data": {
      "text/html": [
       "<div>\n",
       "<style scoped>\n",
       "    .dataframe tbody tr th:only-of-type {\n",
       "        vertical-align: middle;\n",
       "    }\n",
       "\n",
       "    .dataframe tbody tr th {\n",
       "        vertical-align: top;\n",
       "    }\n",
       "\n",
       "    .dataframe thead th {\n",
       "        text-align: right;\n",
       "    }\n",
       "</style>\n",
       "<table border=\"1\" class=\"dataframe\">\n",
       "  <thead>\n",
       "    <tr style=\"text-align: right;\">\n",
       "      <th></th>\n",
       "      <th>Exam 1</th>\n",
       "      <th>Exam 2</th>\n",
       "      <th>Admitted</th>\n",
       "    </tr>\n",
       "  </thead>\n",
       "  <tbody>\n",
       "    <tr>\n",
       "      <th>0</th>\n",
       "      <td>34.623660</td>\n",
       "      <td>78.024693</td>\n",
       "      <td>0</td>\n",
       "    </tr>\n",
       "    <tr>\n",
       "      <th>1</th>\n",
       "      <td>30.286711</td>\n",
       "      <td>43.894998</td>\n",
       "      <td>0</td>\n",
       "    </tr>\n",
       "    <tr>\n",
       "      <th>2</th>\n",
       "      <td>35.847409</td>\n",
       "      <td>72.902198</td>\n",
       "      <td>0</td>\n",
       "    </tr>\n",
       "    <tr>\n",
       "      <th>3</th>\n",
       "      <td>60.182599</td>\n",
       "      <td>86.308552</td>\n",
       "      <td>1</td>\n",
       "    </tr>\n",
       "    <tr>\n",
       "      <th>4</th>\n",
       "      <td>79.032736</td>\n",
       "      <td>75.344376</td>\n",
       "      <td>1</td>\n",
       "    </tr>\n",
       "  </tbody>\n",
       "</table>\n",
       "</div>"
      ],
      "text/plain": [
       "      Exam 1     Exam 2  Admitted\n",
       "0  34.623660  78.024693         0\n",
       "1  30.286711  43.894998         0\n",
       "2  35.847409  72.902198         0\n",
       "3  60.182599  86.308552         1\n",
       "4  79.032736  75.344376         1"
      ]
     },
     "execution_count": 1354,
     "metadata": {},
     "output_type": "execute_result"
    }
   ],
   "source": [
    "data.head()"
   ]
  },
  {
   "cell_type": "code",
   "execution_count": 1355,
   "id": "88a212c4",
   "metadata": {},
   "outputs": [
    {
     "data": {
      "text/html": [
       "<div>\n",
       "<style scoped>\n",
       "    .dataframe tbody tr th:only-of-type {\n",
       "        vertical-align: middle;\n",
       "    }\n",
       "\n",
       "    .dataframe tbody tr th {\n",
       "        vertical-align: top;\n",
       "    }\n",
       "\n",
       "    .dataframe thead th {\n",
       "        text-align: right;\n",
       "    }\n",
       "</style>\n",
       "<table border=\"1\" class=\"dataframe\">\n",
       "  <thead>\n",
       "    <tr style=\"text-align: right;\">\n",
       "      <th></th>\n",
       "      <th>Exam 1</th>\n",
       "      <th>Exam 2</th>\n",
       "      <th>Admitted</th>\n",
       "    </tr>\n",
       "  </thead>\n",
       "  <tbody>\n",
       "    <tr>\n",
       "      <th>count</th>\n",
       "      <td>100.000000</td>\n",
       "      <td>100.000000</td>\n",
       "      <td>100.000000</td>\n",
       "    </tr>\n",
       "    <tr>\n",
       "      <th>mean</th>\n",
       "      <td>65.644274</td>\n",
       "      <td>66.221998</td>\n",
       "      <td>0.600000</td>\n",
       "    </tr>\n",
       "    <tr>\n",
       "      <th>std</th>\n",
       "      <td>19.458222</td>\n",
       "      <td>18.582783</td>\n",
       "      <td>0.492366</td>\n",
       "    </tr>\n",
       "    <tr>\n",
       "      <th>min</th>\n",
       "      <td>30.058822</td>\n",
       "      <td>30.603263</td>\n",
       "      <td>0.000000</td>\n",
       "    </tr>\n",
       "    <tr>\n",
       "      <th>25%</th>\n",
       "      <td>50.919511</td>\n",
       "      <td>48.179205</td>\n",
       "      <td>0.000000</td>\n",
       "    </tr>\n",
       "    <tr>\n",
       "      <th>50%</th>\n",
       "      <td>67.032988</td>\n",
       "      <td>67.682381</td>\n",
       "      <td>1.000000</td>\n",
       "    </tr>\n",
       "    <tr>\n",
       "      <th>75%</th>\n",
       "      <td>80.212529</td>\n",
       "      <td>79.360605</td>\n",
       "      <td>1.000000</td>\n",
       "    </tr>\n",
       "    <tr>\n",
       "      <th>max</th>\n",
       "      <td>99.827858</td>\n",
       "      <td>98.869436</td>\n",
       "      <td>1.000000</td>\n",
       "    </tr>\n",
       "  </tbody>\n",
       "</table>\n",
       "</div>"
      ],
      "text/plain": [
       "           Exam 1      Exam 2    Admitted\n",
       "count  100.000000  100.000000  100.000000\n",
       "mean    65.644274   66.221998    0.600000\n",
       "std     19.458222   18.582783    0.492366\n",
       "min     30.058822   30.603263    0.000000\n",
       "25%     50.919511   48.179205    0.000000\n",
       "50%     67.032988   67.682381    1.000000\n",
       "75%     80.212529   79.360605    1.000000\n",
       "max     99.827858   98.869436    1.000000"
      ]
     },
     "execution_count": 1355,
     "metadata": {},
     "output_type": "execute_result"
    }
   ],
   "source": [
    "data.describe()"
   ]
  },
  {
   "cell_type": "code",
   "execution_count": 1356,
   "id": "2854d44d",
   "metadata": {},
   "outputs": [
    {
     "data": {
      "text/html": [
       "<div>\n",
       "<style scoped>\n",
       "    .dataframe tbody tr th:only-of-type {\n",
       "        vertical-align: middle;\n",
       "    }\n",
       "\n",
       "    .dataframe tbody tr th {\n",
       "        vertical-align: top;\n",
       "    }\n",
       "\n",
       "    .dataframe thead th {\n",
       "        text-align: right;\n",
       "    }\n",
       "</style>\n",
       "<table border=\"1\" class=\"dataframe\">\n",
       "  <thead>\n",
       "    <tr style=\"text-align: right;\">\n",
       "      <th></th>\n",
       "      <th>Ones</th>\n",
       "      <th>Exam 1</th>\n",
       "      <th>Exam 2</th>\n",
       "      <th>Admitted</th>\n",
       "    </tr>\n",
       "  </thead>\n",
       "  <tbody>\n",
       "    <tr>\n",
       "      <th>0</th>\n",
       "      <td>1</td>\n",
       "      <td>34.623660</td>\n",
       "      <td>78.024693</td>\n",
       "      <td>0</td>\n",
       "    </tr>\n",
       "    <tr>\n",
       "      <th>1</th>\n",
       "      <td>1</td>\n",
       "      <td>30.286711</td>\n",
       "      <td>43.894998</td>\n",
       "      <td>0</td>\n",
       "    </tr>\n",
       "    <tr>\n",
       "      <th>2</th>\n",
       "      <td>1</td>\n",
       "      <td>35.847409</td>\n",
       "      <td>72.902198</td>\n",
       "      <td>0</td>\n",
       "    </tr>\n",
       "    <tr>\n",
       "      <th>3</th>\n",
       "      <td>1</td>\n",
       "      <td>60.182599</td>\n",
       "      <td>86.308552</td>\n",
       "      <td>1</td>\n",
       "    </tr>\n",
       "    <tr>\n",
       "      <th>4</th>\n",
       "      <td>1</td>\n",
       "      <td>79.032736</td>\n",
       "      <td>75.344376</td>\n",
       "      <td>1</td>\n",
       "    </tr>\n",
       "  </tbody>\n",
       "</table>\n",
       "</div>"
      ],
      "text/plain": [
       "   Ones     Exam 1     Exam 2  Admitted\n",
       "0     1  34.623660  78.024693         0\n",
       "1     1  30.286711  43.894998         0\n",
       "2     1  35.847409  72.902198         0\n",
       "3     1  60.182599  86.308552         1\n",
       "4     1  79.032736  75.344376         1"
      ]
     },
     "execution_count": 1356,
     "metadata": {},
     "output_type": "execute_result"
    }
   ],
   "source": [
    "# added column with values '1'\n",
    "d_len = len(data)\n",
    "data.insert(0, \"Ones\", 1)\n",
    "data.head()"
   ]
  },
  {
   "cell_type": "code",
   "execution_count": 1357,
   "id": "c235f543",
   "metadata": {},
   "outputs": [],
   "source": [
    "# Ex 4 - We need to separate our data into independent variables X (column 0,1 2) and our dependent variable y (col. 3).\n",
    "X = data[['Ones', 'Exam 1', \"Exam 2\"]]\n",
    "y = data['Admitted']"
   ]
  },
  {
   "cell_type": "code",
   "execution_count": 1358,
   "id": "3cf1ae7c",
   "metadata": {},
   "outputs": [],
   "source": [
    "# Division by y-dependent variable to 2 classes \n",
    "admitted = data.loc[y==1]\n",
    "not_admitted = data.loc[y==0]"
   ]
  },
  {
   "cell_type": "code",
   "execution_count": 1359,
   "id": "929d9020",
   "metadata": {},
   "outputs": [
    {
     "data": {
      "image/png": "[encoded data removed]",
      "text/plain": [
       "<Figure size 1600x800 with 1 Axes>"
      ]
     },
     "metadata": {
      "needs_background": "light"
     },
     "output_type": "display_data"
    }
   ],
   "source": [
    "# Ex. 2.: Please plot the loaded data in the graph (using scatter plot). Can be both: a 2D plot with marks colored regarding to the class or a 3D plot with the class showed as 3rd dimension.\n",
    "\n",
    "plt.figure(figsize=(20, 10), dpi=80)\n",
    "plt.scatter(admitted.iloc[:, 1], admitted.iloc[:, 2], s=50, label='Admitted', color='g', marker='+')\n",
    "plt.scatter(not_admitted.iloc[:, 1], not_admitted.iloc[:, 2], s=50, label=\"Not Admitted\", color='r', marker='*')\n",
    "plt.ylim([20, 120])\n",
    "plt.xlim([25, 100])\n",
    "plt.legend()\n",
    "plt.show()"
   ]
  },
  {
   "cell_type": "code",
   "execution_count": 1360,
   "id": "10d03185",
   "metadata": {},
   "outputs": [],
   "source": [
    "# Sigmoind function\n",
    "def sig(t):\n",
    "    return 1/(1+np.exp(-t))"
   ]
  },
  {
   "cell_type": "code",
   "execution_count": 1361,
   "id": "fb84309c",
   "metadata": {},
   "outputs": [
    {
     "data": {
      "image/png": "[encoded data removed]",
      "text/plain": [
       "<Figure size 432x288 with 1 Axes>"
      ]
     },
     "metadata": {
      "needs_background": "light"
     },
     "output_type": "display_data"
    }
   ],
   "source": [
    "# Ex. 4.: Using the function np.arange or np.linspace, please generate data from the range [-5.5], step 0.5 and check the correct operation of the implemented function by plotting it. \n",
    "x_sig = np.arange(-5, 5, 0.5)\n",
    "y_sig = sig(x_sig)\n",
    "plt.figure()\n",
    "plt.plot(x_sig, y_sig)\n",
    "plt.show()"
   ]
  },
  {
   "cell_type": "code",
   "execution_count": 1362,
   "id": "1f30bddb",
   "metadata": {},
   "outputs": [],
   "source": [
    "# Ex. 5. Based on the above formulas, please implement the cost function J (recommended vectorized solution):\n",
    "\n",
    "def Cost(X, y, theta):\n",
    "    predictions = sig(np.dot(X, theta))\n",
    "    m = y.shape[0]\n",
    "    error = (-y * np.log(predictions)) - ((1-y)*np.log(1-predictions))\n",
    "    cost = 1/m * sum(error)\n",
    "    return cost"
   ]
  },
  {
   "cell_type": "code",
   "execution_count": 1363,
   "id": "8248fc75",
   "metadata": {},
   "outputs": [],
   "source": [
    "# Changing variable type to numpy array and creating a theta variable\n",
    "X_t = np.array(X.values, dtype=float)\n",
    "y_t = np.array(y.values, dtype=float)\n",
    "theta_t = np.zeros(3)"
   ]
  },
  {
   "cell_type": "code",
   "execution_count": 1364,
   "id": "14b7c376",
   "metadata": {},
   "outputs": [
    {
     "name": "stdout",
     "output_type": "stream",
     "text": [
      "0.693147180559946\n"
     ]
    }
   ],
   "source": [
    "# Testing cost function\n",
    "test1 = Cost(X_t, y_t, theta_t)\n",
    "print(test1)"
   ]
  },
  {
   "cell_type": "code",
   "execution_count": 1365,
   "id": "56257782",
   "metadata": {},
   "outputs": [],
   "source": [
    "# Standatyzacja danych\n",
    "X_t[:, 1:] = (X_t[:, 1:] - X_t[:, 1:].mean(0)) / X_t[:, 1:].std(0)"
   ]
  },
  {
   "cell_type": "code",
   "execution_count": 1366,
   "id": "3f944467",
   "metadata": {},
   "outputs": [],
   "source": [
    "# Ex. 6.: Implementation of simple gradient function:\n",
    "def simple_gradient(X, y, theta, alpha, it):\n",
    "    # it - number of iterations\n",
    "    m = y.shape[0]\n",
    "    J = []\n",
    "    for i in range(it):\n",
    "        cost = Cost(X, y, theta)\n",
    "        gradient = 1/m * np.dot(X.T, sig(np.dot(X, theta)) - y)\n",
    "        theta = theta - (alpha*gradient)\n",
    "        J.append(cost)\n",
    "    return theta, J"
   ]
  },
  {
   "cell_type": "code",
   "execution_count": 1367,
   "id": "af2602aa",
   "metadata": {},
   "outputs": [
    {
     "name": "stdout",
     "output_type": "stream",
     "text": [
      "theta:  [1.63839781 3.82219573 3.5600815 ]\n",
      "Best cost:  0.20368880887393004\n"
     ]
    }
   ],
   "source": [
    "# evaluate theta and cost output\n",
    "theta_opt, cost_output = simple_gradient(X_t, y_t, theta_t, alpha=1, it=350)\n",
    "print(\"theta: \", theta_opt)\n",
    "print(\"Best cost: \", cost_output[-1])"
   ]
  },
  {
   "cell_type": "markdown",
   "id": "d2df6009",
   "metadata": {},
   "source": [
    "**Ex. 7.**: Please present the accuracy of the algorithm performance. Prediction values will be in the range [0; 1]. Threshold value = 0.5. "
   ]
  },
  {
   "cell_type": "code",
   "execution_count": 1368,
   "id": "067cda31",
   "metadata": {},
   "outputs": [
    {
     "data": {
      "text/plain": [
       "array([0, 0, 0, 1, 1, 0, 1, 0, 1, 1, 1, 0, 1, 1, 0, 1, 0, 0, 1, 0, 0, 1,\n",
       "       0, 0, 1, 1, 0, 1, 0, 0, 1, 1, 0, 0, 0, 0, 1, 1, 0, 0, 1, 0, 1, 0,\n",
       "       0, 0, 1, 1, 1, 1, 1, 1, 1, 0, 0, 0, 1, 1, 1, 1, 1, 0, 0, 0, 0, 0,\n",
       "       1, 0, 1, 1, 0, 1, 1, 1, 1, 1, 1, 0, 0, 0, 1, 1, 1, 0, 1, 1, 0, 1,\n",
       "       1, 0, 1, 1, 0, 1, 1, 1, 1, 1, 0, 1])"
      ]
     },
     "execution_count": 1368,
     "metadata": {},
     "output_type": "execute_result"
    }
   ],
   "source": [
    "pred_thresh = 0.5\n",
    "prediction = ((X_t @ theta_opt) > pred_thresh).astype(int)\n",
    "prediction"
   ]
  },
  {
   "cell_type": "markdown",
   "id": "ff31cc89",
   "metadata": {},
   "source": [
    "**Accuracy**"
   ]
  },
  {
   "cell_type": "code",
   "execution_count": 1369,
   "id": "1bce7114",
   "metadata": {},
   "outputs": [
    {
     "data": {
      "text/plain": [
       "True     96\n",
       "False     4\n",
       "Name: Admitted, dtype: int64"
      ]
     },
     "execution_count": 1369,
     "metadata": {},
     "output_type": "execute_result"
    }
   ],
   "source": [
    "difference = y-prediction.T\n",
    "diff = difference >= 0\n",
    "diff.value_counts()"
   ]
  },
  {
   "cell_type": "code",
   "execution_count": 1370,
   "id": "c870d91b",
   "metadata": {},
   "outputs": [
    {
     "name": "stdout",
     "output_type": "stream",
     "text": [
      "Accuracy: 88.0%\n"
     ]
    }
   ],
   "source": [
    "# 1 - sum(train - prediction)/num_of_predictions\n",
    "accuracy = (1 - np.abs(difference).sum() / prediction.shape[0]) * 100\n",
    "\n",
    "print(f\"Accuracy: {accuracy}%\")"
   ]
  },
  {
   "cell_type": "code",
   "execution_count": 1371,
   "id": "7fb9fd70",
   "metadata": {},
   "outputs": [
    {
     "data": {
      "text/plain": [
       "<matplotlib.legend.Legend at 0x1980f239f40>"
      ]
     },
     "execution_count": 1371,
     "metadata": {},
     "output_type": "execute_result"
    },
    {
     "data": {
      "image/png": "[encoded data removed]",
      "text/plain": [
       "<Figure size 1600x800 with 1 Axes>"
      ]
     },
     "metadata": {
      "needs_background": "light"
     },
     "output_type": "display_data"
    }
   ],
   "source": [
    "plt.figure(figsize=(20, 10), dpi=80)\n",
    "\n",
    "plt.scatter(X_t[y==1, 1], X_t[y==1, 2], s=50, c='g', marker=\"+\", label=\"Admitted\")\n",
    "plt.scatter(X_t[y==0, 1], X_t[y==0, 2], s=50, c='r', marker=\"*\", label=\"Not Admitted\")\n",
    "\n",
    "b = theta_opt[0]\n",
    "m = -theta_opt[1]/theta_opt[2]\n",
    "c = -b/theta_opt[2]\n",
    "\n",
    "x_values = np.array([np.min(X_t[:, 1]-0.5), np.max(X_t[:, 1]+0.5)])\n",
    "y_values = m*x_values+c\n",
    "\n",
    "y_min = np.min(X_t[:, 2]-0.5)\n",
    "y_max = np.max(X_t[:, 2]+0.5)\n",
    "\n",
    "plt.plot(x_values, y_values, 'k', lw=1, ls='--', label='division line')\n",
    "plt.fill_between(x_values, y_values, y_min, color='tab:red', alpha=0.15)\n",
    "plt.fill_between(x_values, y_values, y_max, color='tab:green', alpha=0.15)\n",
    "plt.xlim(x_values)\n",
    "plt.ylim([y_min, y_max])\n",
    "plt.xlabel(\"Exam 1 score\")\n",
    "plt.ylabel(\"Exam 2 score\")\n",
    "plt.legend()"
   ]
  },
  {
   "cell_type": "markdown",
   "id": "e754c074",
   "metadata": {},
   "source": [
    "# Multi-class logistic regression"
   ]
  },
  {
   "cell_type": "code",
   "execution_count": 1372,
   "id": "297dd6fb",
   "metadata": {},
   "outputs": [],
   "source": [
    "import numpy as np\n",
    "import matplotlib.pyplot as plt\n",
    "from sklearn.linear_model import LogisticRegression\n",
    "from sklearn import datasets\n",
    "\n",
    "iris = datasets.load_iris()\n",
    "X = iris.data[:, :2]  # we are analyzing only 2 parameters\n",
    "Y = iris.target"
   ]
  },
  {
   "cell_type": "code",
   "execution_count": 1373,
   "id": "b1216be6",
   "metadata": {},
   "outputs": [
    {
     "name": "stdout",
     "output_type": "stream",
     "text": [
      "(150, 2)\n",
      "(150,)\n"
     ]
    }
   ],
   "source": [
    "print(X.shape)\n",
    "print(Y.shape)"
   ]
  },
  {
   "cell_type": "code",
   "execution_count": 1374,
   "id": "687bf71c",
   "metadata": {},
   "outputs": [],
   "source": [
    "# Normalize dataset\n",
    "from sklearn.preprocessing import StandardScaler\n",
    "\n",
    "scaler = StandardScaler()\n",
    "scaler.fit(X)\n",
    "X = scaler.transform(X)"
   ]
  },
  {
   "cell_type": "code",
   "execution_count": 1375,
   "id": "bfb490cd",
   "metadata": {},
   "outputs": [],
   "source": [
    "from sklearn.model_selection import train_test_split\n",
    "\n",
    "# Split data to test and train datasets\n",
    "X_train, X_test, y_train, y_test = train_test_split(X, Y, test_size=0.2, random_state=42)"
   ]
  },
  {
   "cell_type": "code",
   "execution_count": 1376,
   "id": "5a5e04c2",
   "metadata": {},
   "outputs": [
    {
     "data": {
      "text/plain": [
       "LogisticRegression()"
      ]
     },
     "execution_count": 1376,
     "metadata": {},
     "output_type": "execute_result"
    }
   ],
   "source": [
    "# Creating LogisticRegression Model\n",
    "\n",
    "model = LogisticRegression()\n",
    "model.fit(X_train, y_train)"
   ]
  },
  {
   "cell_type": "code",
   "execution_count": 1377,
   "id": "0af2adf8",
   "metadata": {},
   "outputs": [
    {
     "name": "stderr",
     "output_type": "stream",
     "text": [
      "<ipython-input-1377-61fa4f67098d>:12: MatplotlibDeprecationWarning: shading='flat' when X and Y have the same dimensions as C is deprecated since 3.3.  Either specify the corners of the quadrilaterals with X and Y, or pass shading='auto', 'nearest' or 'gouraud', or set rcParams['pcolor.shading'].  This will become an error two minor releases later.\n",
      "  plt.pcolormesh(xx, yy, Z, cmap=plt.cm.Paired)\n"
     ]
    },
    {
     "data": {
      "image/png": "[encoded data removed]",
      "text/plain": [
       "<Figure size 1080x720 with 1 Axes>"
      ]
     },
     "metadata": {},
     "output_type": "display_data"
    }
   ],
   "source": [
    "# Plot the decision boundary. For that, we will assign a color to each\n",
    "# point in the mesh [x_min, x_max]x[y_min, y_max].\n",
    "x_min, x_max = X[:, 0].min() - .5, X[:, 0].max() + .5\n",
    "y_min, y_max = X[:, 1].min() - .5, X[:, 1].max() + .5\n",
    "h = .02  # step size in the mesh\n",
    "xx, yy = np.meshgrid(np.arange(x_min, x_max, h), np.arange(y_min, y_max, h))\n",
    "Z = model.predict(np.c_[xx.ravel(), yy.ravel()])\n",
    " \n",
    "# Put the result into a color plot\n",
    "Z = Z.reshape(xx.shape)\n",
    "plt.figure(1, figsize=(15, 10))\n",
    "plt.pcolormesh(xx, yy, Z, cmap=plt.cm.Paired)\n",
    " \n",
    "# Plot also the training points\n",
    "plt.scatter(X[:, 0], X[:, 1], c=Y, edgecolors='k', cmap=plt.cm.Paired)\n",
    "plt.xlabel('Sepal length')\n",
    "plt.ylabel('Sepal width')\n",
    " \n",
    "plt.xlim(xx.min(), xx.max())\n",
    "plt.ylim(yy.min(), yy.max())\n",
    "plt.xticks(())\n",
    "plt.yticks(())\n",
    " \n",
    "plt.show()"
   ]
  },
  {
   "cell_type": "code",
   "execution_count": 1378,
   "id": "28aae153",
   "metadata": {},
   "outputs": [
    {
     "data": {
      "text/plain": [
       "array([[0.01, 0.55, 0.44],\n",
       "       [0.87, 0.07, 0.06],\n",
       "       [0.  , 0.15, 0.85],\n",
       "       [0.02, 0.56, 0.42],\n",
       "       [0.  , 0.34, 0.66],\n",
       "       [0.78, 0.15, 0.07],\n",
       "       [0.12, 0.61, 0.27],\n",
       "       [0.  , 0.27, 0.73],\n",
       "       [0.  , 0.62, 0.38],\n",
       "       [0.02, 0.65, 0.33],\n",
       "       [0.01, 0.36, 0.63],\n",
       "       [0.84, 0.13, 0.02],\n",
       "       [0.79, 0.13, 0.08],\n",
       "       [0.86, 0.12, 0.02],\n",
       "       [0.99, 0.01, 0.  ],\n",
       "       [0.04, 0.39, 0.57],\n",
       "       [0.  , 0.39, 0.6 ],\n",
       "       [0.02, 0.73, 0.25],\n",
       "       [0.05, 0.64, 0.31],\n",
       "       [0.  , 0.46, 0.54]])"
      ]
     },
     "execution_count": 1378,
     "metadata": {},
     "output_type": "execute_result"
    }
   ],
   "source": [
    "# predict_proba returns the class probabilities for each data point \n",
    "pred_proba = model.predict_proba(X_test)\n",
    "first_20th_prediction = np.around(pred_proba[:20,:], 2)\n",
    "first_20th_prediction\n",
    "\n",
    "# each row represent a point and each column represent a class. any value represent a probability with which the given point belongs to the given class \n",
    "# sum of values in each row must 1"
   ]
  },
  {
   "cell_type": "markdown",
   "id": "07eed61b",
   "metadata": {},
   "source": [
    " Evaluation - please assess the accuracy of the algorithms using a variety of metrics (at least 2)."
   ]
  },
  {
   "cell_type": "code",
   "execution_count": 1379,
   "id": "ce84f2d9",
   "metadata": {},
   "outputs": [
    {
     "name": "stdout",
     "output_type": "stream",
     "text": [
      "Accuracy score: 0.9\n",
      "Balanced accuracy score: 0.8956\n",
      "Recall score: 0.9\n",
      "Jaccard score: 0.8254\n"
     ]
    }
   ],
   "source": [
    "from sklearn.metrics import accuracy_score, balanced_accuracy_score, recall_score, jaccard_score\n",
    "\n",
    "predictions_y = model.predict(X_test)\n",
    "\n",
    "print(f\"Accuracy score: {round(accuracy_score(y_test, predictions_y), 4)}\")\n",
    "\n",
    "print(f\"Balanced accuracy score: {round(balanced_accuracy_score(y_test, predictions_y), 4)}\")\n",
    "\n",
    "print(f\"Recall score: {round(recall_score(y_test, predictions_y, average='weighted'), 4)}\")\n",
    "\n",
    "print(f\"Jaccard score: {round(jaccard_score(y_test, predictions_y, average='weighted'), 4)}\")"
   ]
  },
  {
   "cell_type": "markdown",
   "id": "0ac85778",
   "metadata": {},
   "source": [
    "# Conclusion\n",
    "\n",
    "In this chapter I learned how to create a Linear Regression models for one and multiple features. Logistic Regression is a useful analysis method for classification problems, where you are trying to assign the sample to a category."
   ]
  }
 ],
 "metadata": {
  "kernelspec": {
   "display_name": "Python 3",
   "language": "python",
   "name": "python3"
  },
  "language_info": {
   "codemirror_mode": {
    "name": "ipython",
    "version": 3
   },
   "file_extension": ".py",
   "mimetype": "text/x-python",
   "name": "python",
   "nbconvert_exporter": "python",
   "pygments_lexer": "ipython3",
   "version": "3.8.5"
  }
 },
 "nbformat": 4,
 "nbformat_minor": 5
}
