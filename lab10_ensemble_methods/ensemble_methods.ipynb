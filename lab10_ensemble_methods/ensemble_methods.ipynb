{
 "cells": [
  {
   "cell_type": "markdown",
   "metadata": {},
   "source": [
    "# Ensemble methods\n",
    "## Marcin Biela 302959"
   ]
  },
  {
   "cell_type": "code",
   "execution_count": 121,
   "metadata": {},
   "outputs": [],
   "source": [
    "import numpy as np\n",
    "import matplotlib.pyplot as plt\n",
    "from sklearn.datasets import load_wine\n",
    "from sklearn.tree import DecisionTreeClassifier\n",
    "from sklearn.ensemble import BaggingClassifier, AdaBoostClassifier, GradientBoostingClassifier\n",
    "from sklearn.model_selection import cross_val_score"
   ]
  },
  {
   "cell_type": "code",
   "execution_count": 122,
   "metadata": {},
   "outputs": [],
   "source": [
    "# Load dataset\n",
    "data = load_wine()"
   ]
  },
  {
   "cell_type": "code",
   "execution_count": 123,
   "metadata": {},
   "outputs": [],
   "source": [
    "# Split data to data and target\n",
    "X = data['data']\n",
    "y = data['target']"
   ]
  },
  {
   "cell_type": "code",
   "execution_count": 124,
   "metadata": {},
   "outputs": [
    {
     "data": {
      "text/plain": [
       "array([0, 1, 2])"
      ]
     },
     "execution_count": 124,
     "metadata": {},
     "output_type": "execute_result"
    }
   ],
   "source": [
    "np.unique(y)"
   ]
  },
  {
   "cell_type": "markdown",
   "metadata": {},
   "source": [
    "### Single Decision Tree"
   ]
  },
  {
   "cell_type": "code",
   "execution_count": 125,
   "metadata": {},
   "outputs": [
    {
     "data": {
      "text/plain": [
       "array([0.94444444, 0.80555556, 0.80555556, 0.91428571, 0.97142857])"
      ]
     },
     "execution_count": 125,
     "metadata": {},
     "output_type": "execute_result"
    }
   ],
   "source": [
    "decissionTreeClf = DecisionTreeClassifier(random_state=1, min_samples_leaf=3)\n",
    "decissionTreeCv = cross_val_score(decissionTreeClf, X, y)\n",
    "decissionTreeCv"
   ]
  },
  {
   "cell_type": "markdown",
   "metadata": {},
   "source": [
    "### Bagged Decision Tree"
   ]
  },
  {
   "cell_type": "code",
   "execution_count": 126,
   "metadata": {},
   "outputs": [
    {
     "data": {
      "text/plain": [
       "array([0.91666667, 0.91666667, 0.94444444, 0.97142857, 1.        ])"
      ]
     },
     "execution_count": 126,
     "metadata": {},
     "output_type": "execute_result"
    }
   ],
   "source": [
    "baggingClf = BaggingClassifier(base_estimator=decissionTreeClf, n_estimators=50, random_state=1)\n",
    "baggingClf.fit(X, y)\n",
    "baggingClassifierCv = cross_val_score(baggingClf, X, y)\n",
    "baggingClassifierCv"
   ]
  },
  {
   "cell_type": "markdown",
   "metadata": {},
   "source": [
    "### Ada Boost algorithm for decistion trees"
   ]
  },
  {
   "cell_type": "code",
   "execution_count": 127,
   "metadata": {},
   "outputs": [
    {
     "data": {
      "text/plain": [
       "array([0.83333333, 0.91666667, 0.91666667, 1.        , 1.        ])"
      ]
     },
     "execution_count": 127,
     "metadata": {},
     "output_type": "execute_result"
    }
   ],
   "source": [
    "adaBoostClf = AdaBoostClassifier(algorithm='SAMME', n_estimators=50, random_state=1)\n",
    "adaBoostClf.fit(X, y)\n",
    "adaBoostClassifierCV = cross_val_score(adaBoostClf, X, y)\n",
    "adaBoostClassifierCV"
   ]
  },
  {
   "cell_type": "markdown",
   "metadata": {},
   "source": [
    "### Gradient Boosting algorithm for decision trees"
   ]
  },
  {
   "cell_type": "code",
   "execution_count": 128,
   "metadata": {},
   "outputs": [
    {
     "data": {
      "text/plain": [
       "array([0.91666667, 0.94444444, 0.97222222, 0.88571429, 1.        ])"
      ]
     },
     "execution_count": 128,
     "metadata": {},
     "output_type": "execute_result"
    }
   ],
   "source": [
    "gradientBoostingClf =  GradientBoostingClassifier(learning_rate=1.0, subsample=0.5, n_estimators=50, min_samples_leaf=3, max_depth=1)\n",
    "gradientBoostingClf.fit(X, y)\n",
    "gradientBoostingCv = cross_val_score(gradientBoostingClf, X, y)\n",
    "gradientBoostingCv"
   ]
  },
  {
   "cell_type": "code",
   "execution_count": 129,
   "metadata": {},
   "outputs": [
    {
     "name": "stdout",
     "output_type": "stream",
     "text": [
      "\n",
      "Decission Tree scores: [0.94444444 0.80555556 0.80555556 0.91428571 0.97142857] ===> average: 0.8883 \n",
      "\n",
      "Bagging scores: [0.91666667 0.91666667 0.94444444 0.97142857 1.        ] ===> average: 0.9498 \n",
      "\n",
      "AdaBoost scores: [0.83333333 0.91666667 0.91666667 1.         1.        ] ===> average: 0.9333 \n",
      "\n",
      "GradientBoosting scores: [0.91666667 0.94444444 0.97222222 0.88571429 1.        ] ===> average: 0.9438 \n",
      "\n",
      "\n"
     ]
    }
   ],
   "source": [
    "result = f\"\"\"\n",
    "Decission Tree scores: {decissionTreeCv} ===> average: {np.round(np.mean(decissionTreeCv), 4)} \\n\n",
    "Bagging scores: {baggingClassifierCv} ===> average: {np.round(np.mean(baggingClassifierCv), 4)} \\n\n",
    "AdaBoost scores: {adaBoostClassifierCV} ===> average: {np.round(np.mean(adaBoostClassifierCV), 4)} \\n\n",
    "GradientBoosting scores: {gradientBoostingCv} ===> average: {np.round(np.mean(gradientBoostingCv), 4)} \\n\n",
    "\"\"\"\n",
    "\n",
    "print(result)"
   ]
  },
  {
   "cell_type": "markdown",
   "metadata": {},
   "source": [
    "## Determine an approximated number of iterations after which the Gradient Boosting model yields almost no further improvement by following these steps\n",
    "- Fit the model on the whole dataset.\n",
    "- Compute the cumulative improvement, i.e. the OOB loss (call numpy.cumsum() function with GradientBoostingClassifier.oob_improvement_ attribute as its argument).\n",
    "- Prepare a plot of the above-mentioned OOB loss with respect to the number of iterations.\n"
   ]
  },
  {
   "cell_type": "code",
   "execution_count": 130,
   "metadata": {},
   "outputs": [
    {
     "data": {
      "text/plain": [
       "50"
      ]
     },
     "execution_count": 130,
     "metadata": {},
     "output_type": "execute_result"
    }
   ],
   "source": [
    "noIteration = np.cumsum(gradientBoostingClf.oob_improvement_)\n",
    "len(noIteration)"
   ]
  },
  {
   "cell_type": "code",
   "execution_count": 131,
   "metadata": {},
   "outputs": [
    {
     "data": {
      "image/png": "[encoded data removed]",
      "text/plain": [
       "<Figure size 1080x720 with 1 Axes>"
      ]
     },
     "metadata": {
      "needs_background": "light"
     },
     "output_type": "display_data"
    }
   ],
   "source": [
    "fig, ax = plt.subplots()\n",
    "fig.set_size_inches((15, 10))\n",
    "ax.plot(noIteration)\n",
    "ax.set_title(\" Cummulative improvement - OOB loss \")\n",
    "ax.set_xlabel(\"No Iteration\")\n",
    "ax.set_ylabel(\"Loss\")\n",
    "plt.show()"
   ]
  },
  {
   "cell_type": "code",
   "execution_count": null,
   "metadata": {},
   "outputs": [],
   "source": []
  }
 ],
 "metadata": {
  "interpreter": {
   "hash": "b3ba2566441a7c06988d0923437866b63cedc61552a5af99d1f4fb67d367b25f"
  },
  "kernelspec": {
   "display_name": "Python 3.8.5 64-bit ('base': conda)",
   "language": "python",
   "name": "python3"
  },
  "language_info": {
   "codemirror_mode": {
    "name": "ipython",
    "version": 3
   },
   "file_extension": ".py",
   "mimetype": "text/x-python",
   "name": "python",
   "nbconvert_exporter": "python",
   "pygments_lexer": "ipython3",
   "version": "3.8.5"
  },
  "orig_nbformat": 4
 },
 "nbformat": 4,
 "nbformat_minor": 2
}
