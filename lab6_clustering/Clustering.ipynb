{
  "nbformat": 4,
  "nbformat_minor": 0,
  "metadata": {
    "colab": {
      "name": "Clustering.ipynb",
      "provenance": []
    },
    "kernelspec": {
      "name": "python3",
      "display_name": "Python 3"
    },
    "language_info": {
      "name": "python"
    }
  },
  "cells": [
    {
      "cell_type": "code",
      "execution_count": null,
      "metadata": {
        "colab": {
          "base_uri": "https://localhost:8080/"
        },
        "id": "RBQg6dFxeXRt",
        "outputId": "e4a80015-c081-4b4f-ad68-68fb99cc0a1e"
      },
      "outputs": [
        {
          "output_type": "stream",
          "name": "stdout",
          "text": [
            "Help on function make_blobs in module sklearn.datasets._samples_generator:\n",
            "\n",
            "make_blobs(n_samples=100, n_features=2, *, centers=None, cluster_std=1.0, center_box=(-10.0, 10.0), shuffle=True, random_state=None, return_centers=False)\n",
            "    Generate isotropic Gaussian blobs for clustering.\n",
            "    \n",
            "    Read more in the :ref:`User Guide <sample_generators>`.\n",
            "    \n",
            "    Parameters\n",
            "    ----------\n",
            "    n_samples : int or array-like, default=100\n",
            "        If int, it is the total number of points equally divided among\n",
            "        clusters.\n",
            "        If array-like, each element of the sequence indicates\n",
            "        the number of samples per cluster.\n",
            "    \n",
            "        .. versionchanged:: v0.20\n",
            "            one can now pass an array-like to the ``n_samples`` parameter\n",
            "    \n",
            "    n_features : int, default=2\n",
            "        The number of features for each sample.\n",
            "    \n",
            "    centers : int or ndarray of shape (n_centers, n_features), default=None\n",
            "        The number of centers to generate, or the fixed center locations.\n",
            "        If n_samples is an int and centers is None, 3 centers are generated.\n",
            "        If n_samples is array-like, centers must be\n",
            "        either None or an array of length equal to the length of n_samples.\n",
            "    \n",
            "    cluster_std : float or array-like of float, default=1.0\n",
            "        The standard deviation of the clusters.\n",
            "    \n",
            "    center_box : tuple of float (min, max), default=(-10.0, 10.0)\n",
            "        The bounding box for each cluster center when centers are\n",
            "        generated at random.\n",
            "    \n",
            "    shuffle : bool, default=True\n",
            "        Shuffle the samples.\n",
            "    \n",
            "    random_state : int, RandomState instance or None, default=None\n",
            "        Determines random number generation for dataset creation. Pass an int\n",
            "        for reproducible output across multiple function calls.\n",
            "        See :term:`Glossary <random_state>`.\n",
            "    \n",
            "    return_centers : bool, default=False\n",
            "        If True, then return the centers of each cluster\n",
            "    \n",
            "        .. versionadded:: 0.23\n",
            "    \n",
            "    Returns\n",
            "    -------\n",
            "    X : ndarray of shape (n_samples, n_features)\n",
            "        The generated samples.\n",
            "    \n",
            "    y : ndarray of shape (n_samples,)\n",
            "        The integer labels for cluster membership of each sample.\n",
            "    \n",
            "    centers : ndarray of shape (n_centers, n_features)\n",
            "        The centers of each cluster. Only returned if\n",
            "        ``return_centers=True``.\n",
            "    \n",
            "    Examples\n",
            "    --------\n",
            "    >>> from sklearn.datasets import make_blobs\n",
            "    >>> X, y = make_blobs(n_samples=10, centers=3, n_features=2,\n",
            "    ...                   random_state=0)\n",
            "    >>> print(X.shape)\n",
            "    (10, 2)\n",
            "    >>> y\n",
            "    array([0, 0, 1, 0, 2, 2, 2, 1, 1, 0])\n",
            "    >>> X, y = make_blobs(n_samples=[3, 3, 4], centers=None, n_features=2,\n",
            "    ...                   random_state=0)\n",
            "    >>> print(X.shape)\n",
            "    (10, 2)\n",
            "    >>> y\n",
            "    array([0, 1, 2, 0, 2, 2, 2, 1, 1, 0])\n",
            "    \n",
            "    See Also\n",
            "    --------\n",
            "    make_classification : A more intricate variant.\n",
            "\n"
          ]
        }
      ],
      "source": [
        "from sklearn.datasets import make_blobs\n",
        "import matplotlib.pyplot as plt\n",
        "\n",
        "help(make_blobs)"
      ]
    },
    {
      "cell_type": "code",
      "source": [
        "X, y = make_blobs(n_samples=120, n_features=2, centers=4, cluster_std=0.4)\n"
      ],
      "metadata": {
        "id": "WERtIttIe9dw"
      },
      "execution_count": null,
      "outputs": []
    },
    {
      "cell_type": "code",
      "source": [
        "print(X.shape)\n",
        "print(y.shape)"
      ],
      "metadata": {
        "colab": {
          "base_uri": "https://localhost:8080/"
        },
        "id": "wDOCCdlje4x5",
        "outputId": "9b29a264-9af6-49c5-a06a-d51c693510e5"
      },
      "execution_count": null,
      "outputs": [
        {
          "output_type": "stream",
          "name": "stdout",
          "text": [
            "(120, 2)\n",
            "(120,)\n"
          ]
        }
      ]
    },
    {
      "cell_type": "code",
      "source": [
        "# wykres punktowy\n",
        "plt.figure()\n",
        "plt.scatter(X[:,0], X[:,1])"
      ],
      "metadata": {
        "colab": {
          "base_uri": "https://localhost:8080/",
          "height": 282
        },
        "id": "C644K10W8Hjr",
        "outputId": "192f5ba5-f144-480f-e58d-853530418aab"
      },
      "execution_count": null,
      "outputs": [
        {
          "output_type": "execute_result",
          "data": {
            "text/plain": [
              "<matplotlib.collections.PathCollection at 0x7f833ab778d0>"
            ]
          },
          "metadata": {},
          "execution_count": 4
        },
        {
          "output_type": "display_data",
          "data": {
            "text/plain": [
              "<Figure size 432x288 with 1 Axes>"
            ],
            "image/png": "[encoded data removed]"
          },
          "metadata": {
            "needs_background": "light"
          }
        }
      ]
    },
    {
      "cell_type": "code",
      "source": [
        "fig, ax = plt.subplots()\n",
        "ax.scatter(X[:, 0], X[:, 1])\n",
        "ax.set_title(\"Clusters\")\n",
        "ax.set_xlabel(\"X1\")\n",
        "ax.set_ylabel(\"X2\")\n",
        "plt.show()"
      ],
      "metadata": {
        "colab": {
          "base_uri": "https://localhost:8080/",
          "height": 295
        },
        "id": "MYVhlK8xf04a",
        "outputId": "1d622ae4-496b-46ca-b755-609c798bdcf1"
      },
      "execution_count": null,
      "outputs": [
        {
          "output_type": "display_data",
          "data": {
            "text/plain": [
              "<Figure size 432x288 with 1 Axes>"
            ],
            "image/png": "[encoded data removed]"
          },
          "metadata": {
            "needs_background": "light"
          }
        }
      ]
    },
    {
      "cell_type": "code",
      "source": [
        "# Kmeans\n",
        "from sklearn.cluster import KMeans\n",
        "import numpy as np\n",
        "kmeans = KMeans(n_clusters=2, random_state=0, init='random').fit(X)\n",
        "print(kmeans.labels_)"
      ],
      "metadata": {
        "colab": {
          "base_uri": "https://localhost:8080/"
        },
        "id": "YZiTaccQhyOy",
        "outputId": "3d69af86-ba15-4410-ee12-8045c2016d91"
      },
      "execution_count": null,
      "outputs": [
        {
          "output_type": "stream",
          "name": "stdout",
          "text": [
            "[1 1 0 0 0 0 0 0 1 1 0 1 1 1 1 1 0 0 0 0 0 0 0 1 1 1 0 0 0 1 1 1 0 0 1 0 1\n",
            " 1 1 1 1 1 0 0 1 1 0 1 0 1 1 0 0 1 0 1 1 1 0 1 0 0 1 0 0 0 0 0 0 0 1 1 0 0\n",
            " 1 1 0 1 1 1 0 1 0 0 0 1 0 0 1 1 1 0 1 1 1 1 0 1 0 1 0 0 0 0 0 1 1 1 0 0 1\n",
            " 1 1 1 0 0 1 1 0 0]\n"
          ]
        }
      ]
    },
    {
      "cell_type": "code",
      "source": [
        "points_to_predict = np.array([[4, 0],\n",
        "                              [2, 5]])\n",
        "\n",
        "model_predict = kmeans.predict(points_to_predict)"
      ],
      "metadata": {
        "id": "C31lDio7iU8i"
      },
      "execution_count": null,
      "outputs": []
    },
    {
      "cell_type": "code",
      "source": [
        "cluster_centers = kmeans.cluster_centers_\n",
        "print(cluster_centers)"
      ],
      "metadata": {
        "colab": {
          "base_uri": "https://localhost:8080/"
        },
        "id": "m7FX4xxajByQ",
        "outputId": "c5d10ca4-0fee-4f93-c35d-e3c9153730f5"
      },
      "execution_count": null,
      "outputs": [
        {
          "output_type": "stream",
          "name": "stdout",
          "text": [
            "[[ 0.21222828 -1.84528574]\n",
            " [ 4.2605065   7.63192573]]\n"
          ]
        }
      ]
    },
    {
      "cell_type": "code",
      "source": [
        "fig, ax = plt.subplots()\n",
        "ax.scatter(X[:, 0], X[:, 1], cmap=model_predict)\n",
        "# cluster_centers\n",
        "ax.scatter(cluster_centers[:, 0], cluster_centers[:, 1], color='red')\n",
        "# point to be classified\n",
        "ax.scatter(points_to_predict[:, 0], points_to_predict[:, 1], color='red')\n",
        "ax.set_title(\"Present how clasters worked\")\n",
        "ax.set_xlabel(\"X1\")\n",
        "ax.set_ylabel(\"X2\")\n",
        "plt.show()"
      ],
      "metadata": {
        "colab": {
          "base_uri": "https://localhost:8080/",
          "height": 295
        },
        "outputId": "751eb85d-350d-42ad-a904-a7ab1ab0a7e3",
        "id": "iv1O9kAkms-b"
      },
      "execution_count": null,
      "outputs": [
        {
          "output_type": "display_data",
          "data": {
            "text/plain": [
              "<Figure size 432x288 with 1 Axes>"
            ],
            "image/png": "[encoded data removed]"
          },
          "metadata": {
            "needs_background": "light"
          }
        }
      ]
    },
    {
      "cell_type": "code",
      "source": [
        "# calculate inertia\n",
        "kmeans.inertia_"
      ],
      "metadata": {
        "colab": {
          "base_uri": "https://localhost:8080/"
        },
        "id": "GNA07Fyfs3NK",
        "outputId": "2f2b520a-5500-4d38-923c-678e9d1e0100"
      },
      "execution_count": null,
      "outputs": [
        {
          "output_type": "execute_result",
          "data": {
            "text/plain": [
              "1901.8038200492783"
            ]
          },
          "metadata": {},
          "execution_count": 10
        }
      ]
    },
    {
      "cell_type": "markdown",
      "source": [
        "## Kmeans clustering - example II"
      ],
      "metadata": {
        "id": "UfT-6cw_tA2s"
      }
    },
    {
      "cell_type": "code",
      "source": [
        "def drawArrow(A, B):\n",
        "    plt.arrow(A[0], A[1], B[0] - A[0], B[1] - A[1],\n",
        "              head_width=0.5, length_includes_head=True)\n"
      ],
      "metadata": {
        "id": "TkuQCjfA09fc"
      },
      "execution_count": null,
      "outputs": []
    },
    {
      "cell_type": "code",
      "source": [
        "X_2, y_2 = make_blobs(n_samples=350, n_features=2, centers=5, cluster_std=0.80)\n",
        "y_2 = y_2.reshape(350, 1)"
      ],
      "metadata": {
        "id": "SBHudAKttFwy"
      },
      "execution_count": null,
      "outputs": []
    },
    {
      "cell_type": "code",
      "source": [
        "fig, ax = plt.subplots()\n",
        "ax.scatter(X_2[:, 0], X_2[:, 1])\n",
        "ax.set_title(\"Clusters\")\n",
        "ax.set_xlabel(\"X1\")\n",
        "ax.set_ylabel(\"X2\")\n",
        "plt.show()"
      ],
      "metadata": {
        "colab": {
          "base_uri": "https://localhost:8080/",
          "height": 295
        },
        "id": "vF9JmhA6tSjR",
        "outputId": "d3001f2c-72e5-4422-ab92-54b40810de4f"
      },
      "execution_count": null,
      "outputs": [
        {
          "output_type": "display_data",
          "data": {
            "text/plain": [
              "<Figure size 432x288 with 1 Axes>"
            ],
            "image/png": "[encoded data removed]"
          },
          "metadata": {
            "needs_background": "light"
          }
        }
      ]
    },
    {
      "cell_type": "code",
      "source": [
        "kmeans_2 = KMeans(n_clusters=2, random_state=0, init='random').fit(X_2)\n",
        "print(kmeans_2.labels_)"
      ],
      "metadata": {
        "colab": {
          "base_uri": "https://localhost:8080/"
        },
        "id": "jUjLpvgEz9ga",
        "outputId": "aabeb3e1-c7a8-4354-883d-75e020a81e3e"
      },
      "execution_count": null,
      "outputs": [
        {
          "output_type": "stream",
          "name": "stdout",
          "text": [
            "[1 0 1 0 1 1 0 1 1 1 1 1 1 1 1 0 1 0 0 0 0 1 1 0 0 1 0 1 0 1 1 0 1 1 1 1 1\n",
            " 1 0 0 1 0 1 1 1 1 1 1 1 0 0 0 1 1 1 0 0 1 0 0 0 0 0 0 1 0 1 1 0 0 0 1 1 1\n",
            " 1 1 1 1 1 1 1 0 1 1 1 0 0 1 0 0 0 1 1 1 1 0 1 1 1 1 1 1 1 1 0 0 0 1 0 0 0\n",
            " 1 1 1 1 0 0 1 1 1 1 1 0 0 0 0 1 1 1 1 0 0 0 1 0 1 0 0 1 0 1 1 1 0 1 0 1 0\n",
            " 1 0 0 1 1 0 0 1 1 1 1 1 1 0 1 1 1 1 1 0 1 1 1 0 0 1 0 1 1 1 1 0 1 0 1 1 0\n",
            " 1 1 0 0 0 1 1 0 1 0 0 1 1 1 1 0 1 1 0 0 1 1 1 0 1 1 0 0 1 1 1 1 0 1 1 0 0\n",
            " 1 0 0 1 0 1 0 1 1 1 0 1 1 0 0 0 1 1 0 0 0 1 1 1 0 0 0 1 0 1 0 0 1 0 0 0 1\n",
            " 1 0 1 1 0 0 0 0 0 0 0 1 1 1 1 1 1 1 1 1 0 0 0 1 0 1 1 0 1 0 1 1 1 1 0 0 0\n",
            " 1 1 1 1 0 1 1 1 1 1 0 1 1 0 1 0 0 1 1 0 1 1 1 0 1 1 1 1 1 1 1 1 1 1 1 0 0\n",
            " 1 1 0 1 0 0 0 1 1 1 0 0 0 1 1 1 1]\n"
          ]
        }
      ]
    },
    {
      "cell_type": "code",
      "source": [
        "cluster_centers_2 = kmeans_2.cluster_centers_\n",
        "print(cluster_centers_2)"
      ],
      "metadata": {
        "colab": {
          "base_uri": "https://localhost:8080/"
        },
        "id": "zqW-wnjT0HOr",
        "outputId": "9d459629-ae72-45d7-ec08-6c05dc50d1c4"
      },
      "execution_count": null,
      "outputs": [
        {
          "output_type": "stream",
          "name": "stdout",
          "text": [
            "[[ 1.58307677 -7.04594704]\n",
            " [ 0.43298526  5.51490821]]\n"
          ]
        }
      ]
    },
    {
      "cell_type": "code",
      "source": [
        "fig, ax = plt.subplots()\n",
        "ax.scatter(X_2[:, 0], X_2[:, 1])\n",
        "# cluster_centers\n",
        "ax.scatter(cluster_centers_2[:, 0], cluster_centers_2[:, 1], color='yellow')\n",
        "# point to be classified\n",
        "ax.scatter(points_to_predict[:, 0], points_to_predict[:, 1], color='red')\n",
        "drawArrow(points_to_predict[0], cluster_centers_2[0])  \n",
        "drawArrow(points_to_predict[1], cluster_centers_2[1]) \n",
        "ax.set_title(\"Present how clasters worked\")\n",
        "ax.set_xlabel(\"X1\")\n",
        "ax.set_ylabel(\"X2\")\n",
        "plt.show()"
      ],
      "metadata": {
        "colab": {
          "base_uri": "https://localhost:8080/",
          "height": 295
        },
        "id": "HViB8G1i0R56",
        "outputId": "e4cf618a-159d-4a27-e2ec-a09585f26859"
      },
      "execution_count": null,
      "outputs": [
        {
          "output_type": "display_data",
          "data": {
            "text/plain": [
              "<Figure size 432x288 with 1 Axes>"
            ],
            "image/png": "[encoded data removed]"
          },
          "metadata": {
            "needs_background": "light"
          }
        }
      ]
    },
    {
      "cell_type": "code",
      "source": [
        "# calculate inertia\n",
        "kmeans_2.inertia_"
      ],
      "metadata": {
        "colab": {
          "base_uri": "https://localhost:8080/"
        },
        "id": "T8DK9R9f2XYy",
        "outputId": "c50ec5c6-157c-41d2-8732-8caffe606a4f"
      },
      "execution_count": null,
      "outputs": [
        {
          "output_type": "execute_result",
          "data": {
            "text/plain": [
              "3617.4265798507577"
            ]
          },
          "metadata": {},
          "execution_count": 17
        }
      ]
    }
  ]
}