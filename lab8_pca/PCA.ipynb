{
  "cells": [
    {
      "cell_type": "markdown",
      "metadata": {
        "id": "xsDio7UF6uw6"
      },
      "source": [
        "# PCA\n",
        "## Marcin Biela, 302959\n"
      ]
    },
    {
      "cell_type": "markdown",
      "metadata": {
        "id": "tK7o6XQ67ina"
      },
      "source": [
        "The goal of this excercise is to calculate the number of principal components while maintaining the tradeoff between computational power and classifier accuracy.\n",
        "Run the task on one of the databases available in Python"
      ]
    },
    {
      "cell_type": "code",
      "execution_count": 1207,
      "metadata": {
        "id": "iHLljOcm6uT3"
      },
      "outputs": [],
      "source": [
        "from sklearn.datasets import load_boston\n",
        "import pandas as pd\n",
        "import numpy as np\n",
        "import matplotlib as mpl\n",
        "from matplotlib import pyplot as plt\n",
        "from sklearn.model_selection import train_test_split"
      ]
    },
    {
      "cell_type": "code",
      "execution_count": 1208,
      "metadata": {
        "colab": {
          "base_uri": "https://localhost:8080/"
        },
        "id": "fR45WRv-7_om",
        "outputId": "663ca5eb-76a5-4944-b169-af20068fb72c"
      },
      "outputs": [
        {
          "name": "stdout",
          "output_type": "stream",
          "text": [
            "Help on function load_boston in module sklearn.datasets._base:\n",
            "\n",
            "load_boston(*, return_X_y=False)\n",
            "    DEPRECATED: `load_boston` is deprecated in 1.0 and will be removed in 1.2.\n",
            "    \n",
            "    The Boston housing prices dataset has an ethical problem. You can refer to\n",
            "    the documentation of this function for further details.\n",
            "    \n",
            "    The scikit-learn maintainers therefore strongly discourage the use of this\n",
            "    dataset unless the purpose of the code is to study and educate about\n",
            "    ethical issues in data science and machine learning.\n",
            "    \n",
            "    In this special case, you can fetch the dataset from the original\n",
            "    source::\n",
            "    \n",
            "        import pandas as pd\n",
            "        import numpy as np\n",
            "    \n",
            "    \n",
            "        data_url = \"http://lib.stat.cmu.edu/datasets/boston\"\n",
            "        raw_df = pd.read_csv(data_url, sep=\"\\s+\", skiprows=22, header=None)\n",
            "        data = np.hstack([raw_df.values[::2, :], raw_df.values[1::2, :2]])\n",
            "        target = raw_df.values[1::2, 2]\n",
            "    \n",
            "    Alternative datasets include the California housing dataset (i.e.\n",
            "    :func:`~sklearn.datasets.fetch_california_housing`) and the Ames housing\n",
            "    dataset. You can load the datasets as follows::\n",
            "    \n",
            "        from sklearn.datasets import fetch_california_housing\n",
            "        housing = fetch_california_housing()\n",
            "    \n",
            "    for the California housing dataset and::\n",
            "    \n",
            "        from sklearn.datasets import fetch_openml\n",
            "        housing = fetch_openml(name=\"house_prices\", as_frame=True)\n",
            "    \n",
            "    for the Ames housing dataset.\n",
            "    \n",
            "    \n",
            "    Load and return the boston house-prices dataset (regression).\n",
            "    \n",
            "    ==============   ==============\n",
            "    Samples total               506\n",
            "    Dimensionality               13\n",
            "    Features         real, positive\n",
            "    Targets           real 5. - 50.\n",
            "    ==============   ==============\n",
            "    \n",
            "    Read more in the :ref:`User Guide <boston_dataset>`.\n",
            "    \n",
            "    .. deprecated:: 1.0\n",
            "       This function is deprecated in 1.0 and will be removed in 1.2. See the\n",
            "       warning message below for further details regarding the alternative\n",
            "       datasets.\n",
            "    \n",
            "    .. warning::\n",
            "        The Boston housing prices dataset has an ethical problem: as\n",
            "        investigated in [1]_, the authors of this dataset engineered a\n",
            "        non-invertible variable \"B\" assuming that racial self-segregation had a\n",
            "        positive impact on house prices [2]_. Furthermore the goal of the\n",
            "        research that led to the creation of this dataset was to study the\n",
            "        impact of air quality but it did not give adequate demonstration of the\n",
            "        validity of this assumption.\n",
            "    \n",
            "        The scikit-learn maintainers therefore strongly discourage the use of\n",
            "        this dataset unless the purpose of the code is to study and educate\n",
            "        about ethical issues in data science and machine learning.\n",
            "    \n",
            "        In this special case, you can fetch the dataset from the original\n",
            "        source::\n",
            "    \n",
            "            import pandas as pd  # doctest: +SKIP\n",
            "            import numpy as np\n",
            "    \n",
            "    \n",
            "            data_url = \"http://lib.stat.cmu.edu/datasets/boston\"\n",
            "            raw_df = pd.read_csv(data_url, sep=\"s+\", skiprows=22, header=None)\n",
            "            data = np.hstack([raw_df.values[::2, :], raw_df.values[1::2, :2]])\n",
            "            target = raw_df.values[1::2, 2]\n",
            "    \n",
            "        Alternative datasets include the California housing dataset [3]_\n",
            "        (i.e. :func:`~sklearn.datasets.fetch_california_housing`) and Ames\n",
            "        housing dataset [4]_. You can load the datasets as follows::\n",
            "    \n",
            "            from sklearn.datasets import fetch_california_housing\n",
            "            housing = fetch_california_housing()\n",
            "    \n",
            "        for the California housing dataset and::\n",
            "    \n",
            "            from sklearn.datasets import fetch_openml\n",
            "            housing = fetch_openml(name=\"house_prices\", as_frame=True)  # noqa\n",
            "    \n",
            "        for the Ames housing dataset.\n",
            "    \n",
            "    Parameters\n",
            "    ----------\n",
            "    return_X_y : bool, default=False\n",
            "        If True, returns ``(data, target)`` instead of a Bunch object.\n",
            "        See below for more information about the `data` and `target` object.\n",
            "    \n",
            "        .. versionadded:: 0.18\n",
            "    \n",
            "    Returns\n",
            "    -------\n",
            "    data : :class:`~sklearn.utils.Bunch`\n",
            "        Dictionary-like object, with the following attributes.\n",
            "    \n",
            "        data : ndarray of shape (506, 13)\n",
            "            The data matrix.\n",
            "        target : ndarray of shape (506,)\n",
            "            The regression target.\n",
            "        filename : str\n",
            "            The physical location of boston csv dataset.\n",
            "    \n",
            "            .. versionadded:: 0.20\n",
            "    \n",
            "        DESCR : str\n",
            "            The full description of the dataset.\n",
            "        feature_names : ndarray\n",
            "            The names of features\n",
            "    \n",
            "    (data, target) : tuple if ``return_X_y`` is True\n",
            "    \n",
            "        .. versionadded:: 0.18\n",
            "    \n",
            "    Notes\n",
            "    -----\n",
            "        .. versionchanged:: 0.20\n",
            "            Fixed a wrong data point at [445, 0].\n",
            "    \n",
            "    References\n",
            "    ----------\n",
            "    .. [1] `Racist data destruction? M Carlisle,\n",
            "            <https://medium.com/@docintangible/racist-data-destruction-113e3eff54a8>`_\n",
            "    .. [2] `Harrison Jr, David, and Daniel L. Rubinfeld.\n",
            "           \"Hedonic housing prices and the demand for clean air.\"\n",
            "           Journal of environmental economics and management 5.1 (1978): 81-102.\n",
            "           <https://www.researchgate.net/publication/4974606_Hedonic_housing_prices_and_the_demand_for_clean_air>`_\n",
            "    .. [3] `California housing dataset\n",
            "            <https://scikit-learn.org/stable/datasets/real_world.html#california-housing-dataset>`_\n",
            "    .. [4] `Ames housing dataset\n",
            "            <https://www.openml.org/d/42165>`_\n",
            "    \n",
            "    Examples\n",
            "    --------\n",
            "    >>> import warnings\n",
            "    >>> from sklearn.datasets import load_boston\n",
            "    >>> with warnings.catch_warnings():\n",
            "    ...     # You should probably not use this dataset.\n",
            "    ...     warnings.filterwarnings(\"ignore\")\n",
            "    ...     X, y = load_boston(return_X_y=True)\n",
            "    >>> print(X.shape)\n",
            "    (506, 13)\n",
            "\n"
          ]
        },
        {
          "name": "stderr",
          "output_type": "stream",
          "text": [
            "C:\\ProgramData\\Anaconda3\\lib\\site-packages\\sklearn\\utils\\deprecation.py:87: FutureWarning: Function load_boston is deprecated; `load_boston` is deprecated in 1.0 and will be removed in 1.2.\n",
            "\n",
            "    The Boston housing prices dataset has an ethical problem. You can refer to\n",
            "    the documentation of this function for further details.\n",
            "\n",
            "    The scikit-learn maintainers therefore strongly discourage the use of this\n",
            "    dataset unless the purpose of the code is to study and educate about\n",
            "    ethical issues in data science and machine learning.\n",
            "\n",
            "    In this special case, you can fetch the dataset from the original\n",
            "    source::\n",
            "\n",
            "        import pandas as pd\n",
            "        import numpy as np\n",
            "\n",
            "\n",
            "        data_url = \"http://lib.stat.cmu.edu/datasets/boston\"\n",
            "        raw_df = pd.read_csv(data_url, sep=\"\\s+\", skiprows=22, header=None)\n",
            "        data = np.hstack([raw_df.values[::2, :], raw_df.values[1::2, :2]])\n",
            "        target = raw_df.values[1::2, 2]\n",
            "\n",
            "    Alternative datasets include the California housing dataset (i.e.\n",
            "    :func:`~sklearn.datasets.fetch_california_housing`) and the Ames housing\n",
            "    dataset. You can load the datasets as follows::\n",
            "\n",
            "        from sklearn.datasets import fetch_california_housing\n",
            "        housing = fetch_california_housing()\n",
            "\n",
            "    for the California housing dataset and::\n",
            "\n",
            "        from sklearn.datasets import fetch_openml\n",
            "        housing = fetch_openml(name=\"house_prices\", as_frame=True)\n",
            "\n",
            "    for the Ames housing dataset.\n",
            "    \n",
            "  warnings.warn(msg, category=FutureWarning)\n"
          ]
        }
      ],
      "source": [
        "boston = load_boston()\n",
        "help(load_boston)"
      ]
    },
    {
      "cell_type": "code",
      "execution_count": 1209,
      "metadata": {
        "id": "d5NINxqjDIYA"
      },
      "outputs": [],
      "source": [
        "data_boston = pd.DataFrame(boston.data)"
      ]
    },
    {
      "cell_type": "code",
      "execution_count": 1210,
      "metadata": {
        "colab": {
          "base_uri": "https://localhost:8080/",
          "height": 206
        },
        "id": "2QN4_Nm18jg_",
        "outputId": "a69a1e79-c02b-446c-d167-8634cf734f00"
      },
      "outputs": [
        {
          "data": {
            "text/html": [
              "<div>\n",
              "<style scoped>\n",
              "    .dataframe tbody tr th:only-of-type {\n",
              "        vertical-align: middle;\n",
              "    }\n",
              "\n",
              "    .dataframe tbody tr th {\n",
              "        vertical-align: top;\n",
              "    }\n",
              "\n",
              "    .dataframe thead th {\n",
              "        text-align: right;\n",
              "    }\n",
              "</style>\n",
              "<table border=\"1\" class=\"dataframe\">\n",
              "  <thead>\n",
              "    <tr style=\"text-align: right;\">\n",
              "      <th></th>\n",
              "      <th>0</th>\n",
              "      <th>1</th>\n",
              "      <th>2</th>\n",
              "      <th>3</th>\n",
              "      <th>4</th>\n",
              "      <th>5</th>\n",
              "      <th>6</th>\n",
              "      <th>7</th>\n",
              "      <th>8</th>\n",
              "      <th>9</th>\n",
              "      <th>10</th>\n",
              "      <th>11</th>\n",
              "      <th>12</th>\n",
              "    </tr>\n",
              "  </thead>\n",
              "  <tbody>\n",
              "    <tr>\n",
              "      <th>0</th>\n",
              "      <td>0.00632</td>\n",
              "      <td>18.0</td>\n",
              "      <td>2.31</td>\n",
              "      <td>0.0</td>\n",
              "      <td>0.538</td>\n",
              "      <td>6.575</td>\n",
              "      <td>65.2</td>\n",
              "      <td>4.0900</td>\n",
              "      <td>1.0</td>\n",
              "      <td>296.0</td>\n",
              "      <td>15.3</td>\n",
              "      <td>396.90</td>\n",
              "      <td>4.98</td>\n",
              "    </tr>\n",
              "    <tr>\n",
              "      <th>1</th>\n",
              "      <td>0.02731</td>\n",
              "      <td>0.0</td>\n",
              "      <td>7.07</td>\n",
              "      <td>0.0</td>\n",
              "      <td>0.469</td>\n",
              "      <td>6.421</td>\n",
              "      <td>78.9</td>\n",
              "      <td>4.9671</td>\n",
              "      <td>2.0</td>\n",
              "      <td>242.0</td>\n",
              "      <td>17.8</td>\n",
              "      <td>396.90</td>\n",
              "      <td>9.14</td>\n",
              "    </tr>\n",
              "    <tr>\n",
              "      <th>2</th>\n",
              "      <td>0.02729</td>\n",
              "      <td>0.0</td>\n",
              "      <td>7.07</td>\n",
              "      <td>0.0</td>\n",
              "      <td>0.469</td>\n",
              "      <td>7.185</td>\n",
              "      <td>61.1</td>\n",
              "      <td>4.9671</td>\n",
              "      <td>2.0</td>\n",
              "      <td>242.0</td>\n",
              "      <td>17.8</td>\n",
              "      <td>392.83</td>\n",
              "      <td>4.03</td>\n",
              "    </tr>\n",
              "    <tr>\n",
              "      <th>3</th>\n",
              "      <td>0.03237</td>\n",
              "      <td>0.0</td>\n",
              "      <td>2.18</td>\n",
              "      <td>0.0</td>\n",
              "      <td>0.458</td>\n",
              "      <td>6.998</td>\n",
              "      <td>45.8</td>\n",
              "      <td>6.0622</td>\n",
              "      <td>3.0</td>\n",
              "      <td>222.0</td>\n",
              "      <td>18.7</td>\n",
              "      <td>394.63</td>\n",
              "      <td>2.94</td>\n",
              "    </tr>\n",
              "    <tr>\n",
              "      <th>4</th>\n",
              "      <td>0.06905</td>\n",
              "      <td>0.0</td>\n",
              "      <td>2.18</td>\n",
              "      <td>0.0</td>\n",
              "      <td>0.458</td>\n",
              "      <td>7.147</td>\n",
              "      <td>54.2</td>\n",
              "      <td>6.0622</td>\n",
              "      <td>3.0</td>\n",
              "      <td>222.0</td>\n",
              "      <td>18.7</td>\n",
              "      <td>396.90</td>\n",
              "      <td>5.33</td>\n",
              "    </tr>\n",
              "  </tbody>\n",
              "</table>\n",
              "</div>"
            ],
            "text/plain": [
              "        0     1     2    3      4      5     6       7    8      9     10  \\\n",
              "0  0.00632  18.0  2.31  0.0  0.538  6.575  65.2  4.0900  1.0  296.0  15.3   \n",
              "1  0.02731   0.0  7.07  0.0  0.469  6.421  78.9  4.9671  2.0  242.0  17.8   \n",
              "2  0.02729   0.0  7.07  0.0  0.469  7.185  61.1  4.9671  2.0  242.0  17.8   \n",
              "3  0.03237   0.0  2.18  0.0  0.458  6.998  45.8  6.0622  3.0  222.0  18.7   \n",
              "4  0.06905   0.0  2.18  0.0  0.458  7.147  54.2  6.0622  3.0  222.0  18.7   \n",
              "\n",
              "       11    12  \n",
              "0  396.90  4.98  \n",
              "1  396.90  9.14  \n",
              "2  392.83  4.03  \n",
              "3  394.63  2.94  \n",
              "4  396.90  5.33  "
            ]
          },
          "execution_count": 1210,
          "metadata": {},
          "output_type": "execute_result"
        }
      ],
      "source": [
        "data_boston.head()"
      ]
    },
    {
      "cell_type": "code",
      "execution_count": 1211,
      "metadata": {
        "colab": {
          "base_uri": "https://localhost:8080/"
        },
        "id": "fHkKGUFnAtoJ",
        "outputId": "517b7f4d-46a7-468e-e1b9-61a2b09bdbdb"
      },
      "outputs": [
        {
          "data": {
            "text/plain": [
              "[0, 1, 2, 3, 4, 5, 6, 7, 8, 9, 10, 11, 12]"
            ]
          },
          "execution_count": 1211,
          "metadata": {},
          "output_type": "execute_result"
        }
      ],
      "source": [
        "list(data_boston.columns)"
      ]
    },
    {
      "cell_type": "code",
      "execution_count": 1212,
      "metadata": {
        "colab": {
          "base_uri": "https://localhost:8080/"
        },
        "id": "eb3U8JkU9QdG",
        "outputId": "7419c857-544d-4b7e-8e74-8cf64956e684"
      },
      "outputs": [
        {
          "data": {
            "text/plain": [
              "a      b      c      d      e      f      g      h      i      j      k      m      class\n",
              "False  False  False  False  False  False  False  False  False  False  False  False  False    506\n",
              "dtype: int64"
            ]
          },
          "execution_count": 1212,
          "metadata": {},
          "output_type": "execute_result"
        }
      ],
      "source": [
        "data_boston.columns=['a', 'b', 'c', 'd', 'e', 'f', 'g', 'h', 'i', 'j', 'k', 'm', 'class']\n",
        "data_boston.dropna(how=\"all\", inplace=True) # drops the empty line at file-end\n",
        "data_boston.isna().value_counts()"
      ]
    },
    {
      "cell_type": "code",
      "execution_count": 1213,
      "metadata": {
        "id": "BzO2GQfbD7ow"
      },
      "outputs": [],
      "source": [
        "# split data table into data X and class labels y\n",
        "X = data_boston.iloc[:,0:12].values\n",
        "y = data_boston.iloc[:,12].values\n"
      ]
    },
    {
      "cell_type": "code",
      "execution_count": 1214,
      "metadata": {
        "colab": {
          "base_uri": "https://localhost:8080/"
        },
        "id": "mNk9cKw1EQ_4",
        "outputId": "9963b232-01a8-4cc2-d7bf-972a92954dcb"
      },
      "outputs": [
        {
          "data": {
            "text/plain": [
              "(506, 12)"
            ]
          },
          "execution_count": 1214,
          "metadata": {},
          "output_type": "execute_result"
        }
      ],
      "source": [
        "X.shape"
      ]
    },
    {
      "cell_type": "code",
      "execution_count": 1215,
      "metadata": {
        "colab": {
          "base_uri": "https://localhost:8080/"
        },
        "id": "Izt0QEtQEUWi",
        "outputId": "0522f01a-1981-4628-a35b-8f32c0dfc6b7"
      },
      "outputs": [
        {
          "data": {
            "text/plain": [
              "(506,)"
            ]
          },
          "execution_count": 1215,
          "metadata": {},
          "output_type": "execute_result"
        }
      ],
      "source": [
        "y.shape"
      ]
    },
    {
      "cell_type": "markdown",
      "metadata": {
        "id": "CqWDy8_TEd4p"
      },
      "source": [
        "Visualization"
      ]
    },
    {
      "cell_type": "markdown",
      "metadata": {
        "id": "B2srxo4oFYOJ"
      },
      "source": [
        "Standarize"
      ]
    },
    {
      "cell_type": "code",
      "execution_count": 1217,
      "metadata": {
        "id": "Zhq36utUFXt4"
      },
      "outputs": [],
      "source": [
        "# Standarized data\n",
        "from sklearn.preprocessing import StandardScaler\n",
        "X_std = StandardScaler().fit_transform(X)"
      ]
    },
    {
      "cell_type": "code",
      "execution_count": 1218,
      "metadata": {},
      "outputs": [],
      "source": [
        "# Split on train, test subdataset\n",
        "X_train, X_test, y_train, y_test = train_test_split(X_std, y, test_size=0.25)"
      ]
    },
    {
      "cell_type": "markdown",
      "metadata": {
        "id": "bTUX2K8iFrgg"
      },
      "source": [
        "Covariance Matrix"
      ]
    },
    {
      "cell_type": "code",
      "execution_count": 1219,
      "metadata": {
        "colab": {
          "base_uri": "https://localhost:8080/"
        },
        "id": "znBrohOnFm3w",
        "outputId": "ea13c257-0675-423b-d0bd-699e3b5a2ca5"
      },
      "outputs": [
        {
          "name": "stdout",
          "output_type": "stream",
          "text": [
            "NumPy covariance matrix: \n",
            "[[ 1.11933947 -0.23204755  0.44622606 -0.06443832  0.46296379 -0.23783322\n",
            "   0.38736327 -0.41400719  0.66841434  0.62335721  0.33159128 -0.34216065]\n",
            " [-0.23204755  1.06660372 -0.57109978 -0.00954222 -0.55974193  0.3672542\n",
            "  -0.59574055  0.67374593 -0.36372861 -0.34713774 -0.4832063   0.17853818]\n",
            " [ 0.44622606 -0.57109978  0.97706978  0.03516674  0.77657255 -0.40075453\n",
            "   0.66437599 -0.70987236  0.6550096   0.74706509  0.43208467 -0.3386342 ]\n",
            " [-0.06443832 -0.00954222  0.03516674  0.92367814  0.05657278  0.14729788\n",
            "   0.05369656 -0.07470487 -0.0093134  -0.04111685 -0.09005276  0.06418118]\n",
            " [ 0.46296379 -0.55974193  0.77657255  0.05657278  1.02240047 -0.32952388\n",
            "   0.77561926 -0.7927592   0.64120929  0.68475214  0.24083851 -0.36121348]\n",
            " [-0.23783322  0.3672542  -0.40075453  0.14729788 -0.32952388  1.06101168\n",
            "  -0.25911233  0.21500814 -0.24384022 -0.31318142 -0.40940087  0.1287212 ]\n",
            " [ 0.38736327 -0.59574055  0.66437599  0.05369656  0.77561926 -0.25911233\n",
            "   1.04948105 -0.76395606  0.49837438  0.53674332  0.3204034  -0.25684706]\n",
            " [-0.41400719  0.67374593 -0.70987236 -0.07470487 -0.7927592   0.21500814\n",
            "  -0.76395606  0.97453852 -0.54147631 -0.55732047 -0.29940373  0.27249609]\n",
            " [ 0.66841434 -0.36372861  0.6550096  -0.0093134   0.64120929 -0.24384022\n",
            "   0.49837438 -0.54147631  1.05314982  0.96080126  0.51835203 -0.40471426]\n",
            " [ 0.62335721 -0.34713774  0.74706509 -0.04111685  0.68475214 -0.31318142\n",
            "   0.53674332 -0.55732047  0.96080126  1.02000381  0.49546957 -0.40654634]\n",
            " [ 0.33159128 -0.4832063   0.43208467 -0.09005276  0.24083851 -0.40940087\n",
            "   0.3204034  -0.29940373  0.51835203  0.49546957  1.05324639 -0.17896638]\n",
            " [-0.34216065  0.17853818 -0.3386342   0.06418118 -0.36121348  0.1287212\n",
            "  -0.25684706  0.27249609 -0.40471426 -0.40654634 -0.17896638  0.9434496 ]]\n"
          ]
        }
      ],
      "source": [
        "print('NumPy covariance matrix: \\n%s' %np.cov(X_train.T))"
      ]
    },
    {
      "cell_type": "markdown",
      "metadata": {
        "id": "AWCY4M2BGBhL"
      },
      "source": [
        "Calculated Eigvalues"
      ]
    },
    {
      "cell_type": "code",
      "execution_count": 1220,
      "metadata": {
        "colab": {
          "base_uri": "https://localhost:8080/"
        },
        "id": "jL7oXzWpGEYr",
        "outputId": "1cfe0243-4475-4bbb-ef05-2926f04f2f38"
      },
      "outputs": [
        {
          "name": "stdout",
          "output_type": "stream",
          "text": [
            "Eigenvectors \n",
            " [[-0.27254029 -0.39538483  0.21897757  0.03183583 -0.03265429  0.05710671\n",
            "   0.07736334  0.14951532  0.00723864  0.744218   -0.36542633  0.01764393]\n",
            " [ 0.28142187 -0.36951558  0.34283174 -0.01328409  0.08359675 -0.09341111\n",
            "  -0.28155046  0.27667003 -0.53208869 -0.31933445 -0.24589866 -0.22239574]\n",
            " [-0.35687296  0.0968503  -0.00391366 -0.00326376  0.24332128 -0.09617277\n",
            "   0.46115296  0.6962131   0.13020003 -0.26442091 -0.03611702 -0.09608146]\n",
            " [ 0.00370473  0.35656864  0.34592359  0.72740945 -0.0342142  -0.00670193\n",
            "   0.00525246 -0.03474991 -0.01894942  0.13257473  0.11961453 -0.43515974]\n",
            " [-0.35692389  0.21811134  0.14650595 -0.19524605 -0.01414003  0.77828691\n",
            "  -0.31791929  0.02707072  0.00875237 -0.14605264 -0.13606503 -0.13337973]\n",
            " [ 0.18756327  0.10772028  0.61072468  0.02992623 -0.02880094  0.14152022\n",
            "   0.09682348  0.15276197  0.01811393 -0.0024445   0.24809451  0.68108934]\n",
            " [-0.3271659   0.33613117  0.0485598  -0.15406764  0.03020148 -0.1243188\n",
            "   0.33965121 -0.30767601 -0.71147621  0.0468079  -0.09398655  0.10132032]\n",
            " [ 0.33404595 -0.3321042  -0.08409399  0.11922836  0.04042885  0.52826763\n",
            "   0.64025283 -0.18177164 -0.07802049 -0.08247595  0.03411564 -0.13825249]\n",
            " [-0.34772645 -0.31315683  0.19526949  0.19844953  0.62013843 -0.09204874\n",
            "  -0.06150273 -0.43776222  0.18957932 -0.25216214 -0.03345898  0.11999236]\n",
            " [-0.35560721 -0.27868056  0.15779381  0.12105664 -0.736926   -0.12312088\n",
            "   0.12187478 -0.14693721  0.11792601 -0.37551944 -0.07690831  0.02877674]\n",
            " [-0.23611406 -0.23334033 -0.44965555  0.46590472 -0.01890808  0.18083011\n",
            "  -0.21831523  0.22394643 -0.36308337  0.02095332  0.32590413  0.31810761]\n",
            " [ 0.18663495  0.24078323 -0.21386704  0.34871462  0.00206144  0.04590734\n",
            "   0.00478843  0.00508172  0.07177315 -0.14594642 -0.76620856  0.35236636]]\n",
            "\n",
            "Eigenvalues \n",
            " [5.87429614 1.35646039 1.23610768 0.85183739 0.05321989 0.15569119\n",
            " 0.18726559 0.24517705 0.36079486 0.56447719 0.67975898 0.6988861 ]\n"
          ]
        }
      ],
      "source": [
        "cov_mat = np.cov(X_train.T)\n",
        "\n",
        "eig_vals, eig_vecs = np.linalg.eig(cov_mat)\n",
        "\n",
        "print('Eigenvectors \\n', eig_vecs)\n",
        "print('\\nEigenvalues \\n', eig_vals)\n"
      ]
    },
    {
      "cell_type": "code",
      "execution_count": 1221,
      "metadata": {},
      "outputs": [
        {
          "name": "stdout",
          "output_type": "stream",
          "text": [
            "Eigenvectors \n",
            " [[ 0.26303573  0.33499954 -0.22216362 -0.04760923 -0.01954359  0.21667145\n",
            "  -0.8047068   0.04914508 -0.09725495  0.07830195  0.01715246  0.23191277]\n",
            " [-0.27157898  0.33116274 -0.35510778 -0.07571346 -0.18082944  0.35277337\n",
            "   0.27833007 -0.07962937  0.07698277 -0.33689655  0.52577982  0.21889537]\n",
            " [ 0.36476491 -0.10536968  0.04367192 -0.02038592 -0.08189962  0.11023429\n",
            "   0.30969307 -0.24978635  0.10359191  0.38777124 -0.08595837  0.71265149]\n",
            " [ 0.01026531 -0.43736579 -0.36598217 -0.7906868  -0.13835192 -0.15301763\n",
            "  -0.07150522  0.03516218  0.00564935 -0.00838938  0.01725679 -0.01311922]\n",
            " [ 0.36152254 -0.20485062 -0.12552736  0.14680532 -0.13237507  0.18916277\n",
            "   0.17179928  0.04540071 -0.80562019 -0.22737    -0.00449331 -0.06637495]\n",
            " [-0.17935188 -0.10018556 -0.55620827  0.2225715   0.69824157 -0.21625236\n",
            "   0.04577876  0.03421896 -0.12680593  0.10633813  0.00306823  0.18417404]\n",
            " [ 0.32697721 -0.30891141  0.00550371  0.17645195  0.06524033  0.04871534\n",
            "  -0.08211411 -0.02825977  0.16669112  0.32533011  0.72878175 -0.29593038]\n",
            " [-0.34277579  0.33501392  0.02612202 -0.19798182 -0.10835851 -0.00754117\n",
            "   0.10831739 -0.01629363 -0.42669845  0.70198581  0.0862358  -0.15589241]\n",
            " [ 0.34125282  0.3021734  -0.21225229 -0.16030308  0.20713665  0.111879\n",
            "   0.14760584 -0.63401716  0.11095903 -0.02176015 -0.20924817 -0.43096599]\n",
            " [ 0.35926206  0.26468976 -0.154402   -0.12165028  0.10790011  0.18718295\n",
            "   0.30987501  0.72160017  0.20827871  0.11876172 -0.13867669 -0.14868263]\n",
            " [ 0.21382676  0.2958174   0.44755162 -0.37024941  0.40866923 -0.34865221\n",
            "   0.0501069   0.02410826 -0.20484445 -0.23111895  0.33189782  0.17941269]\n",
            " [-0.2130227  -0.25918347  0.30604042 -0.21770893  0.44547623  0.73413079\n",
            "  -0.0595799  -0.0072314  -0.03517993  0.01761017 -0.06175353 -0.00519175]]\n",
            "\n",
            "Eigenvalues \n",
            " [5.58498048 1.42872334 1.18138727 0.85697203 0.7224431  0.65399279\n",
            " 0.53188526 0.06365981 0.16953606 0.19127323 0.34436126 0.27078537]\n"
          ]
        }
      ],
      "source": [
        "# raw data\n",
        "cor_mat2 = np.corrcoef(X.T)\n",
        "\n",
        "eig_vals, eig_vecs = np.linalg.eig(cor_mat2)\n",
        "\n",
        "print('Eigenvectors \\n', eig_vecs)\n",
        "print('\\nEigenvalues \\n', eig_vals)\n"
      ]
    },
    {
      "cell_type": "markdown",
      "metadata": {
        "id": "7t9fnfd2GlSB"
      },
      "source": [
        "Sort eigenvalues in a decreasing order "
      ]
    },
    {
      "cell_type": "code",
      "execution_count": 1222,
      "metadata": {
        "colab": {
          "base_uri": "https://localhost:8080/"
        },
        "id": "j2SstsHYGkKZ",
        "outputId": "d1709840-3e37-4885-c7f3-bd3fe9781f89"
      },
      "outputs": [
        {
          "name": "stdout",
          "output_type": "stream",
          "text": [
            "Eigenvalues in descending order:\n",
            "5.584980482878857\n",
            "1.4287233408850606\n",
            "1.181387274552588\n",
            "0.8569720315866262\n",
            "0.7224430956954037\n",
            "0.6539927933042465\n",
            "0.5318852646090326\n",
            "0.3443612554274313\n",
            "0.27078536693013466\n",
            "0.19127322682750528\n",
            "0.16953605863147653\n",
            "0.06365980867164231\n"
          ]
        }
      ],
      "source": [
        "# Make a list of (eigenvalue, eigenvector) tuples\n",
        "eig_pairs = [(np.abs(eig_vals[i]), eig_vecs[:,i]) for i in range(len(eig_vals))]\n",
        "\n",
        "# Sort the (eigenvalue, eigenvector) tuples from high to low\n",
        "eig_pairs.sort(key=lambda x: x[0], reverse=True)\n",
        "\n",
        "# Visually confirm that the list is correctly sorted by decreasing eigenvalues\n",
        "print('Eigenvalues in descending order:')\n",
        "for i in eig_pairs:\n",
        "    print(i[0])"
      ]
    },
    {
      "cell_type": "code",
      "execution_count": 1223,
      "metadata": {
        "id": "SyV47S4SIVsB"
      },
      "outputs": [
        {
          "name": "stdout",
          "output_type": "stream",
          "text": [
            "[46.54150402399046, 11.906027840708834, 9.844893954604897, 7.141433596555216, 6.020359130795028, 5.449939944202053, 4.43237720507527, 2.8696771285619267, 2.2565447244177883, 1.5939435568958766, 1.4128004885956373, 0.5304984055970191]\n",
            "[ 46.54150402  58.44753186  68.29242582  75.43385942  81.45421855\n",
            "  86.90415849  91.3365357   94.20621282  96.46275755  98.05670111\n",
            "  99.46950159 100.        ]\n"
          ]
        }
      ],
      "source": [
        "# Cumsum of var_exp\n",
        "tot = sum(eig_vals)\n",
        "var_exp = [(i / tot)*100 for i in sorted(eig_vals, reverse=True)]\n",
        "cum_var_exp = np.cumsum(var_exp)\n",
        "\n",
        "print(var_exp)\n",
        "print(cum_var_exp)\n"
      ]
    },
    {
      "cell_type": "markdown",
      "metadata": {
        "id": "EB3ERUeYIchh"
      },
      "source": [
        " Plot the variance coeficients corresponding to eigenvalues"
      ]
    },
    {
      "cell_type": "code",
      "execution_count": 1224,
      "metadata": {
        "colab": {
          "base_uri": "https://localhost:8080/",
          "height": 441
        },
        "id": "aoeErnFQIWpR",
        "outputId": "fab714be-4c63-4045-ba6c-0e7155f48707"
      },
      "outputs": [
        {
          "data": {
            "image/png": "[encoded data removed]",
            "text/plain": [
              "<Figure size 432x432 with 1 Axes>"
            ]
          },
          "metadata": {},
          "output_type": "display_data"
        }
      ],
      "source": [
        "with plt.style.context('seaborn-whitegrid'):\n",
        "    plt.figure(figsize=(6, 6))\n",
        "    plt.bar(range(12), var_exp)\n",
        "    plt.plot(var_exp, '.-m',alpha=0.9,\n",
        "            label='individual explained variance')\n",
        "    # plt.step(range(12), cum_var_exp, where='mid',\n",
        "    #          label='cumulative explained variance')\n",
        "    plt.ylabel('Explained variance ratio')\n",
        "    plt.xlabel('Principal components')\n",
        "    plt.legend(loc='best')\n",
        "    plt.tight_layout()\n"
      ]
    },
    {
      "cell_type": "markdown",
      "metadata": {
        "id": "Gg_KMgzBKJjR"
      },
      "source": [
        "6. Choose k biggest eigenvectors based on corresponding eigenvalues"
      ]
    },
    {
      "cell_type": "code",
      "execution_count": 1225,
      "metadata": {
        "colab": {
          "base_uri": "https://localhost:8080/",
          "height": 265
        },
        "id": "PBA_eJmAJQpa",
        "outputId": "be0466f1-d1a2-4102-9cc5-c8233632de77"
      },
      "outputs": [
        {
          "data": {
            "image/png": "[encoded data removed]",
            "text/plain": [
              "<Figure size 432x288 with 1 Axes>"
            ]
          },
          "metadata": {
            "needs_background": "light"
          },
          "output_type": "display_data"
        }
      ],
      "source": [
        "plt.figure()\n",
        "plt.plot(np.arange(len(cum_var_exp)), cum_var_exp)\n",
        "plt.plot(np.arange(len(cum_var_exp)), 95*np.ones(cum_var_exp.shape))\n",
        "plt.title(\"Choose k biggest eigenvectors\")\n",
        "plt.show()\n",
        "\n",
        "# k = 8"
      ]
    },
    {
      "cell_type": "markdown",
      "metadata": {},
      "source": [
        "## Task 2\n",
        "### USArrests dataset"
      ]
    },
    {
      "cell_type": "code",
      "execution_count": 1226,
      "metadata": {},
      "outputs": [],
      "source": [
        "# Imports\n",
        "from sklearn.preprocessing import scale\n",
        "from sklearn.decomposition import PCA"
      ]
    },
    {
      "cell_type": "code",
      "execution_count": 1227,
      "metadata": {},
      "outputs": [],
      "source": [
        "df = pd.read_csv(\"usarrests.csv\", index_col=0)"
      ]
    },
    {
      "cell_type": "code",
      "execution_count": 1228,
      "metadata": {},
      "outputs": [
        {
          "data": {
            "text/html": [
              "<div>\n",
              "<style scoped>\n",
              "    .dataframe tbody tr th:only-of-type {\n",
              "        vertical-align: middle;\n",
              "    }\n",
              "\n",
              "    .dataframe tbody tr th {\n",
              "        vertical-align: top;\n",
              "    }\n",
              "\n",
              "    .dataframe thead th {\n",
              "        text-align: right;\n",
              "    }\n",
              "</style>\n",
              "<table border=\"1\" class=\"dataframe\">\n",
              "  <thead>\n",
              "    <tr style=\"text-align: right;\">\n",
              "      <th></th>\n",
              "      <th>Murder</th>\n",
              "      <th>Assault</th>\n",
              "      <th>UrbanPop</th>\n",
              "      <th>Rape</th>\n",
              "    </tr>\n",
              "  </thead>\n",
              "  <tbody>\n",
              "    <tr>\n",
              "      <th>Alabama</th>\n",
              "      <td>13.2</td>\n",
              "      <td>236</td>\n",
              "      <td>58</td>\n",
              "      <td>21.2</td>\n",
              "    </tr>\n",
              "    <tr>\n",
              "      <th>Alaska</th>\n",
              "      <td>10.0</td>\n",
              "      <td>263</td>\n",
              "      <td>48</td>\n",
              "      <td>44.5</td>\n",
              "    </tr>\n",
              "    <tr>\n",
              "      <th>Arizona</th>\n",
              "      <td>8.1</td>\n",
              "      <td>294</td>\n",
              "      <td>80</td>\n",
              "      <td>31.0</td>\n",
              "    </tr>\n",
              "    <tr>\n",
              "      <th>Arkansas</th>\n",
              "      <td>8.8</td>\n",
              "      <td>190</td>\n",
              "      <td>50</td>\n",
              "      <td>19.5</td>\n",
              "    </tr>\n",
              "    <tr>\n",
              "      <th>California</th>\n",
              "      <td>9.0</td>\n",
              "      <td>276</td>\n",
              "      <td>91</td>\n",
              "      <td>40.6</td>\n",
              "    </tr>\n",
              "  </tbody>\n",
              "</table>\n",
              "</div>"
            ],
            "text/plain": [
              "            Murder  Assault  UrbanPop  Rape\n",
              "Alabama       13.2      236        58  21.2\n",
              "Alaska        10.0      263        48  44.5\n",
              "Arizona        8.1      294        80  31.0\n",
              "Arkansas       8.8      190        50  19.5\n",
              "California     9.0      276        91  40.6"
            ]
          },
          "execution_count": 1228,
          "metadata": {},
          "output_type": "execute_result"
        }
      ],
      "source": [
        "df.head()"
      ]
    },
    {
      "cell_type": "code",
      "execution_count": 1229,
      "metadata": {},
      "outputs": [
        {
          "name": "stdout",
          "output_type": "stream",
          "text": [
            "<class 'pandas.core.frame.DataFrame'>\n",
            "Index: 50 entries, Alabama to Wyoming\n",
            "Data columns (total 4 columns):\n",
            " #   Column    Non-Null Count  Dtype  \n",
            "---  ------    --------------  -----  \n",
            " 0   Murder    50 non-null     float64\n",
            " 1   Assault   50 non-null     int64  \n",
            " 2   UrbanPop  50 non-null     int64  \n",
            " 3   Rape      50 non-null     float64\n",
            "dtypes: float64(2), int64(2)\n",
            "memory usage: 2.0+ KB\n"
          ]
        }
      ],
      "source": [
        "df.info()"
      ]
    },
    {
      "cell_type": "code",
      "execution_count": 1230,
      "metadata": {},
      "outputs": [
        {
          "data": {
            "text/plain": [
              "Murder        7.788\n",
              "Assault     170.760\n",
              "UrbanPop     65.540\n",
              "Rape         21.232\n",
              "dtype: float64"
            ]
          },
          "execution_count": 1230,
          "metadata": {},
          "output_type": "execute_result"
        }
      ],
      "source": [
        "df.mean()"
      ]
    },
    {
      "cell_type": "code",
      "execution_count": 1231,
      "metadata": {},
      "outputs": [
        {
          "data": {
            "text/plain": [
              "Murder        18.970465\n",
              "Assault     6945.165714\n",
              "UrbanPop     209.518776\n",
              "Rape          87.729159\n",
              "dtype: float64"
            ]
          },
          "execution_count": 1231,
          "metadata": {},
          "output_type": "execute_result"
        }
      ],
      "source": [
        "df.var()"
      ]
    },
    {
      "cell_type": "code",
      "execution_count": 1232,
      "metadata": {},
      "outputs": [],
      "source": [
        "# Scaled data\n",
        "X = pd.DataFrame(scale(df), index=df.index, columns=df.columns)"
      ]
    },
    {
      "cell_type": "code",
      "execution_count": 1233,
      "metadata": {},
      "outputs": [
        {
          "data": {
            "text/html": [
              "<div>\n",
              "<style scoped>\n",
              "    .dataframe tbody tr th:only-of-type {\n",
              "        vertical-align: middle;\n",
              "    }\n",
              "\n",
              "    .dataframe tbody tr th {\n",
              "        vertical-align: top;\n",
              "    }\n",
              "\n",
              "    .dataframe thead th {\n",
              "        text-align: right;\n",
              "    }\n",
              "</style>\n",
              "<table border=\"1\" class=\"dataframe\">\n",
              "  <thead>\n",
              "    <tr style=\"text-align: right;\">\n",
              "      <th></th>\n",
              "      <th>V1</th>\n",
              "      <th>V2</th>\n",
              "      <th>V3</th>\n",
              "      <th>V4</th>\n",
              "    </tr>\n",
              "  </thead>\n",
              "  <tbody>\n",
              "    <tr>\n",
              "      <th>Murder</th>\n",
              "      <td>0.535899</td>\n",
              "      <td>0.418181</td>\n",
              "      <td>-0.341233</td>\n",
              "      <td>0.649228</td>\n",
              "    </tr>\n",
              "    <tr>\n",
              "      <th>Assault</th>\n",
              "      <td>0.583184</td>\n",
              "      <td>0.187986</td>\n",
              "      <td>-0.268148</td>\n",
              "      <td>-0.743407</td>\n",
              "    </tr>\n",
              "    <tr>\n",
              "      <th>UrbanPop</th>\n",
              "      <td>0.278191</td>\n",
              "      <td>-0.872806</td>\n",
              "      <td>-0.378016</td>\n",
              "      <td>0.133878</td>\n",
              "    </tr>\n",
              "    <tr>\n",
              "      <th>Rape</th>\n",
              "      <td>0.543432</td>\n",
              "      <td>-0.167319</td>\n",
              "      <td>0.817778</td>\n",
              "      <td>0.089024</td>\n",
              "    </tr>\n",
              "  </tbody>\n",
              "</table>\n",
              "</div>"
            ],
            "text/plain": [
              "                V1        V2        V3        V4\n",
              "Murder    0.535899  0.418181 -0.341233  0.649228\n",
              "Assault   0.583184  0.187986 -0.268148 -0.743407\n",
              "UrbanPop  0.278191 -0.872806 -0.378016  0.133878\n",
              "Rape      0.543432 -0.167319  0.817778  0.089024"
            ]
          },
          "execution_count": 1233,
          "metadata": {},
          "output_type": "execute_result"
        }
      ],
      "source": [
        "#  using PCA function to compute the loading vectors:\n",
        "pca_loadings = pd.DataFrame(PCA().fit(X).components_.T, index=df.columns, columns=['V1', 'V2', 'V3', 'V4'])\n",
        "pca_loadings"
      ]
    },
    {
      "cell_type": "code",
      "execution_count": 1234,
      "metadata": {},
      "outputs": [
        {
          "data": {
            "text/html": [
              "<div>\n",
              "<style scoped>\n",
              "    .dataframe tbody tr th:only-of-type {\n",
              "        vertical-align: middle;\n",
              "    }\n",
              "\n",
              "    .dataframe tbody tr th {\n",
              "        vertical-align: top;\n",
              "    }\n",
              "\n",
              "    .dataframe thead th {\n",
              "        text-align: right;\n",
              "    }\n",
              "</style>\n",
              "<table border=\"1\" class=\"dataframe\">\n",
              "  <thead>\n",
              "    <tr style=\"text-align: right;\">\n",
              "      <th></th>\n",
              "      <th>PC1</th>\n",
              "      <th>PC2</th>\n",
              "      <th>PC3</th>\n",
              "      <th>PC4</th>\n",
              "    </tr>\n",
              "  </thead>\n",
              "  <tbody>\n",
              "    <tr>\n",
              "      <th>Alabama</th>\n",
              "      <td>0.985566</td>\n",
              "      <td>1.133392</td>\n",
              "      <td>-0.444269</td>\n",
              "      <td>0.156267</td>\n",
              "    </tr>\n",
              "    <tr>\n",
              "      <th>Alaska</th>\n",
              "      <td>1.950138</td>\n",
              "      <td>1.073213</td>\n",
              "      <td>2.040003</td>\n",
              "      <td>-0.438583</td>\n",
              "    </tr>\n",
              "    <tr>\n",
              "      <th>Arizona</th>\n",
              "      <td>1.763164</td>\n",
              "      <td>-0.745957</td>\n",
              "      <td>0.054781</td>\n",
              "      <td>-0.834653</td>\n",
              "    </tr>\n",
              "    <tr>\n",
              "      <th>Arkansas</th>\n",
              "      <td>-0.141420</td>\n",
              "      <td>1.119797</td>\n",
              "      <td>0.114574</td>\n",
              "      <td>-0.182811</td>\n",
              "    </tr>\n",
              "    <tr>\n",
              "      <th>California</th>\n",
              "      <td>2.523980</td>\n",
              "      <td>-1.542934</td>\n",
              "      <td>0.598557</td>\n",
              "      <td>-0.341996</td>\n",
              "    </tr>\n",
              "  </tbody>\n",
              "</table>\n",
              "</div>"
            ],
            "text/plain": [
              "                 PC1       PC2       PC3       PC4\n",
              "Alabama     0.985566  1.133392 -0.444269  0.156267\n",
              "Alaska      1.950138  1.073213  2.040003 -0.438583\n",
              "Arizona     1.763164 -0.745957  0.054781 -0.834653\n",
              "Arkansas   -0.141420  1.119797  0.114574 -0.182811\n",
              "California  2.523980 -1.542934  0.598557 -0.341996"
            ]
          },
          "execution_count": 1234,
          "metadata": {},
          "output_type": "execute_result"
        }
      ],
      "source": [
        "# Fit PCA model and transform X to get the principal components\n",
        "pca = PCA()\n",
        "df_plot = pd.DataFrame(pca.fit_transform(X), columns=['PC1', 'PC2', 'PC3', 'PC4'], index=X.index)\n",
        "df_plot.head()"
      ]
    },
    {
      "cell_type": "code",
      "execution_count": 1235,
      "metadata": {},
      "outputs": [
        {
          "name": "stdout",
          "output_type": "stream",
          "text": [
            "\n",
            "Explained variance:  [2.53085875 1.00996444 0.36383998 0.17696948]\n",
            "\n",
            "Explained variance ratio:  [0.62006039 0.24744129 0.0891408  0.04335752]\n"
          ]
        },
        {
          "data": {
            "image/png": "[encoded data removed]",
            "text/plain": [
              "<Figure size 648x504 with 3 Axes>"
            ]
          },
          "metadata": {
            "needs_background": "light"
          },
          "output_type": "display_data"
        }
      ],
      "source": [
        "fig, ax = plt.subplots(figsize=(9, 7))\n",
        "ax.set_xlim(-3.5, 3.5)\n",
        "ax.set_ylim(-3.5, 3.5)\n",
        "\n",
        "for idx in df_plot.index:\n",
        "    ax.annotate(idx, (df_plot.PC1.loc[idx], -df_plot.PC2.loc[idx]), ha='center')\n",
        "\n",
        "ax.hlines(0, -3.5, 3.5, linestyles='dotted', color='grey')\n",
        "ax.vlines(0, -3.5, 3.5, linestyles='dotted', colors='grey')\n",
        "\n",
        "ax.set_xlabel(\"First, Principal Component\")\n",
        "ax.set_ylabel(\"Second Principal Component\")\n",
        "\n",
        "# plot principal component loading vectors using second y-axis\n",
        "ax2 = ax.twinx().twiny()\n",
        "\n",
        "ax2.set_ylim(-1, 1)\n",
        "ax2.set_xlim(-1, 1)\n",
        "ax2.set_xlabel(\"Principal Component loading vectors\", color='red')\n",
        "\n",
        "# Plot labels for vectors. Variable 'a' is a small offset parameter to separate arrow tip and text\n",
        "a = 1.07\n",
        "for idx in pca_loadings[['V1', 'V2']].index:\n",
        "    ax.annotate(idx, (pca_loadings.V1.loc[idx]*a, -pca_loadings.V2.loc[idx]*a), color=\"red\")\n",
        "\n",
        "\n",
        "# Plot vectors\n",
        "ax2.arrow(0,0,-pca_loadings.V1[0],-pca_loadings.V2[0])\n",
        "ax2.arrow(0,0,-pca_loadings.V1[1],-pca_loadings.V2[1])\n",
        "ax2.arrow(0,0,-pca_loadings.V1[2],-pca_loadings.V2[2])\n",
        "ax2.arrow(0,0,-pca_loadings.V1[3],-pca_loadings.V2[3])\n",
        "\n",
        "\n",
        "print('\\nExplained variance: ', pca.explained_variance_)\n",
        "print('\\nExplained variance ratio: ', pca.explained_variance_ratio_)"
      ]
    },
    {
      "cell_type": "code",
      "execution_count": 1236,
      "metadata": {},
      "outputs": [
        {
          "data": {
            "text/plain": [
              "([<matplotlib.axis.XTick at 0x1d71204b2e0>,\n",
              "  <matplotlib.axis.XTick at 0x1d71204b4c0>,\n",
              "  <matplotlib.axis.XTick at 0x1d712e37640>,\n",
              "  <matplotlib.axis.XTick at 0x1d70ffbc9d0>],\n",
              " [Text(0, 0, ''), Text(0, 0, ''), Text(0, 0, ''), Text(0, 0, '')])"
            ]
          },
          "execution_count": 1236,
          "metadata": {},
          "output_type": "execute_result"
        },
        {
          "data": {
            "image/png": "[encoded data removed]",
            "text/plain": [
              "<Figure size 504x360 with 1 Axes>"
            ]
          },
          "metadata": {
            "needs_background": "light"
          },
          "output_type": "display_data"
        },
        {
          "data": {
            "image/png": "[encoded data removed]",
            "text/plain": [
              "<Figure size 504x360 with 1 Axes>"
            ]
          },
          "metadata": {
            "needs_background": "light"
          },
          "output_type": "display_data"
        }
      ],
      "source": [
        "plt.figure(figsize=(7,5))\n",
        "plt.plot([1,2,3,4], pca.explained_variance_ratio_,'-o')\n",
        "plt.ylabel('Proportion of Variance Explained')\n",
        "plt.xlabel('Principal Component')\n",
        "plt.xlim(0.75,4.25)\n",
        "plt.ylim(0,1.05)\n",
        "plt.xticks([1,2,3,4])\n",
        "\n",
        "plt.figure(figsize=(7,5))\n",
        "plt.plot([1,2,3,4], np.cumsum(pca.explained_variance_ratio_),'-s')\n",
        "plt.ylabel('Proportion of Variance Explained')\n",
        "plt.xlabel('Principal Component')\n",
        "plt.xlim(0.75,4.25)\n",
        "plt.ylim(0,1.05)\n",
        "plt.xticks([1,2,3,4])"
      ]
    },
    {
      "cell_type": "markdown",
      "metadata": {},
      "source": [
        "### NCI60 Dataset"
      ]
    },
    {
      "cell_type": "code",
      "execution_count": 1237,
      "metadata": {},
      "outputs": [
        {
          "data": {
            "text/html": [
              "<div>\n",
              "<style scoped>\n",
              "    .dataframe tbody tr th:only-of-type {\n",
              "        vertical-align: middle;\n",
              "    }\n",
              "\n",
              "    .dataframe tbody tr th {\n",
              "        vertical-align: top;\n",
              "    }\n",
              "\n",
              "    .dataframe thead th {\n",
              "        text-align: right;\n",
              "    }\n",
              "</style>\n",
              "<table border=\"1\" class=\"dataframe\">\n",
              "  <thead>\n",
              "    <tr style=\"text-align: right;\">\n",
              "      <th></th>\n",
              "      <th>1</th>\n",
              "      <th>2</th>\n",
              "      <th>3</th>\n",
              "      <th>4</th>\n",
              "      <th>5</th>\n",
              "      <th>6</th>\n",
              "      <th>7</th>\n",
              "      <th>8</th>\n",
              "      <th>9</th>\n",
              "      <th>10</th>\n",
              "      <th>...</th>\n",
              "      <th>6821</th>\n",
              "      <th>6822</th>\n",
              "      <th>6823</th>\n",
              "      <th>6824</th>\n",
              "      <th>6825</th>\n",
              "      <th>6826</th>\n",
              "      <th>6827</th>\n",
              "      <th>6828</th>\n",
              "      <th>6829</th>\n",
              "      <th>6830</th>\n",
              "    </tr>\n",
              "  </thead>\n",
              "  <tbody>\n",
              "    <tr>\n",
              "      <th>0</th>\n",
              "      <td>0.300000</td>\n",
              "      <td>1.180000</td>\n",
              "      <td>0.550000</td>\n",
              "      <td>1.140000</td>\n",
              "      <td>-0.265000</td>\n",
              "      <td>-7.000000e-02</td>\n",
              "      <td>0.350000</td>\n",
              "      <td>-0.315000</td>\n",
              "      <td>-0.450000</td>\n",
              "      <td>-0.654980</td>\n",
              "      <td>...</td>\n",
              "      <td>-0.990020</td>\n",
              "      <td>0.000000</td>\n",
              "      <td>0.030000</td>\n",
              "      <td>-0.175000</td>\n",
              "      <td>0.629981</td>\n",
              "      <td>-0.030000</td>\n",
              "      <td>0.000000</td>\n",
              "      <td>0.280000</td>\n",
              "      <td>-0.340000</td>\n",
              "      <td>-1.930000</td>\n",
              "    </tr>\n",
              "    <tr>\n",
              "      <th>1</th>\n",
              "      <td>0.679961</td>\n",
              "      <td>1.289961</td>\n",
              "      <td>0.169961</td>\n",
              "      <td>0.379961</td>\n",
              "      <td>0.464961</td>\n",
              "      <td>5.799610e-01</td>\n",
              "      <td>0.699961</td>\n",
              "      <td>0.724961</td>\n",
              "      <td>-0.040039</td>\n",
              "      <td>-0.285019</td>\n",
              "      <td>...</td>\n",
              "      <td>-0.270058</td>\n",
              "      <td>-0.300039</td>\n",
              "      <td>-0.250039</td>\n",
              "      <td>-0.535039</td>\n",
              "      <td>0.109941</td>\n",
              "      <td>-0.860039</td>\n",
              "      <td>-1.250049</td>\n",
              "      <td>-0.770039</td>\n",
              "      <td>-0.390039</td>\n",
              "      <td>-2.000039</td>\n",
              "    </tr>\n",
              "    <tr>\n",
              "      <th>2</th>\n",
              "      <td>0.940000</td>\n",
              "      <td>-0.040000</td>\n",
              "      <td>-0.170000</td>\n",
              "      <td>-0.040000</td>\n",
              "      <td>-0.605000</td>\n",
              "      <td>0.000000e+00</td>\n",
              "      <td>0.090000</td>\n",
              "      <td>0.645000</td>\n",
              "      <td>0.430000</td>\n",
              "      <td>0.475019</td>\n",
              "      <td>...</td>\n",
              "      <td>0.319981</td>\n",
              "      <td>0.120000</td>\n",
              "      <td>-0.740000</td>\n",
              "      <td>-0.595000</td>\n",
              "      <td>-0.270020</td>\n",
              "      <td>-0.150000</td>\n",
              "      <td>0.000000</td>\n",
              "      <td>-0.120000</td>\n",
              "      <td>-0.410000</td>\n",
              "      <td>0.000000</td>\n",
              "    </tr>\n",
              "    <tr>\n",
              "      <th>3</th>\n",
              "      <td>0.280000</td>\n",
              "      <td>-0.310000</td>\n",
              "      <td>0.680000</td>\n",
              "      <td>-0.810000</td>\n",
              "      <td>0.625000</td>\n",
              "      <td>-1.387779e-17</td>\n",
              "      <td>0.170000</td>\n",
              "      <td>0.245000</td>\n",
              "      <td>0.020000</td>\n",
              "      <td>0.095019</td>\n",
              "      <td>...</td>\n",
              "      <td>-1.240020</td>\n",
              "      <td>-0.110000</td>\n",
              "      <td>-0.160000</td>\n",
              "      <td>0.095000</td>\n",
              "      <td>-0.350019</td>\n",
              "      <td>-0.300000</td>\n",
              "      <td>-1.150010</td>\n",
              "      <td>1.090000</td>\n",
              "      <td>-0.260000</td>\n",
              "      <td>-1.100000</td>\n",
              "    </tr>\n",
              "    <tr>\n",
              "      <th>4</th>\n",
              "      <td>0.485000</td>\n",
              "      <td>-0.465000</td>\n",
              "      <td>0.395000</td>\n",
              "      <td>0.905000</td>\n",
              "      <td>0.200000</td>\n",
              "      <td>-5.000000e-03</td>\n",
              "      <td>0.085000</td>\n",
              "      <td>0.110000</td>\n",
              "      <td>0.235000</td>\n",
              "      <td>1.490019</td>\n",
              "      <td>...</td>\n",
              "      <td>0.554980</td>\n",
              "      <td>-0.775000</td>\n",
              "      <td>-0.515000</td>\n",
              "      <td>-0.320000</td>\n",
              "      <td>0.634980</td>\n",
              "      <td>0.605000</td>\n",
              "      <td>0.000000</td>\n",
              "      <td>0.745000</td>\n",
              "      <td>0.425000</td>\n",
              "      <td>0.145000</td>\n",
              "    </tr>\n",
              "  </tbody>\n",
              "</table>\n",
              "<p>5 rows × 6830 columns</p>\n",
              "</div>"
            ],
            "text/plain": [
              "          1         2         3         4         5             6         7  \\\n",
              "0  0.300000  1.180000  0.550000  1.140000 -0.265000 -7.000000e-02  0.350000   \n",
              "1  0.679961  1.289961  0.169961  0.379961  0.464961  5.799610e-01  0.699961   \n",
              "2  0.940000 -0.040000 -0.170000 -0.040000 -0.605000  0.000000e+00  0.090000   \n",
              "3  0.280000 -0.310000  0.680000 -0.810000  0.625000 -1.387779e-17  0.170000   \n",
              "4  0.485000 -0.465000  0.395000  0.905000  0.200000 -5.000000e-03  0.085000   \n",
              "\n",
              "          8         9        10  ...      6821      6822      6823      6824  \\\n",
              "0 -0.315000 -0.450000 -0.654980  ... -0.990020  0.000000  0.030000 -0.175000   \n",
              "1  0.724961 -0.040039 -0.285019  ... -0.270058 -0.300039 -0.250039 -0.535039   \n",
              "2  0.645000  0.430000  0.475019  ...  0.319981  0.120000 -0.740000 -0.595000   \n",
              "3  0.245000  0.020000  0.095019  ... -1.240020 -0.110000 -0.160000  0.095000   \n",
              "4  0.110000  0.235000  1.490019  ...  0.554980 -0.775000 -0.515000 -0.320000   \n",
              "\n",
              "       6825      6826      6827      6828      6829      6830  \n",
              "0  0.629981 -0.030000  0.000000  0.280000 -0.340000 -1.930000  \n",
              "1  0.109941 -0.860039 -1.250049 -0.770039 -0.390039 -2.000039  \n",
              "2 -0.270020 -0.150000  0.000000 -0.120000 -0.410000  0.000000  \n",
              "3 -0.350019 -0.300000 -1.150010  1.090000 -0.260000 -1.100000  \n",
              "4  0.634980  0.605000  0.000000  0.745000  0.425000  0.145000  \n",
              "\n",
              "[5 rows x 6830 columns]"
            ]
          },
          "execution_count": 1237,
          "metadata": {},
          "output_type": "execute_result"
        }
      ],
      "source": [
        "df2 = pd.read_csv('nci60.csv')\n",
        "df2.columns = [str(i) for i in range(df2.columns.size)] # np.arange(df2.columns.size)\n",
        "# df2.drop(labels=\"0\", axis=1)\n",
        "del df2['0']\n",
        "df2.head()\n",
        "\n"
      ]
    },
    {
      "cell_type": "code",
      "execution_count": 1238,
      "metadata": {},
      "outputs": [],
      "source": [
        "# Read in the labels to check out work later\n",
        "y = pd.read_csv(\"nci60_y.csv\", usecols=[1], skiprows=1, names=['type'])"
      ]
    },
    {
      "cell_type": "code",
      "execution_count": 1239,
      "metadata": {},
      "outputs": [
        {
          "data": {
            "text/plain": [
              "(64, 6830)"
            ]
          },
          "execution_count": 1239,
          "metadata": {},
          "output_type": "execute_result"
        }
      ],
      "source": [
        "# Scale data\n",
        "X = pd.DataFrame(scale(df2))\n",
        "X.shape"
      ]
    },
    {
      "cell_type": "code",
      "execution_count": 1240,
      "metadata": {},
      "outputs": [],
      "source": [
        "# Fit PCA model and transform X to get principal components\n",
        "pca2 = PCA()\n",
        "df2_plot = pd.DataFrame(pca2.fit_transform(X))"
      ]
    },
    {
      "cell_type": "code",
      "execution_count": 1241,
      "metadata": {},
      "outputs": [
        {
          "data": {
            "text/plain": [
              "<matplotlib.legend.Legend at 0x1d7167ccb80>"
            ]
          },
          "execution_count": 1241,
          "metadata": {},
          "output_type": "execute_result"
        },
        {
          "data": {
            "image/png": "[encoded data removed]",
            "text/plain": [
              "<Figure size 1080x432 with 2 Axes>"
            ]
          },
          "metadata": {
            "needs_background": "light"
          },
          "output_type": "display_data"
        }
      ],
      "source": [
        "fit, (ax1, ax2) = plt.subplots(1, 2, figsize=(15, 6))\n",
        "\n",
        "color_idx = pd.factorize(y.type)[0]\n",
        "cmap = mpl.cm.hsv\n",
        "\n",
        "# Left plot\n",
        "ax1.scatter(df2_plot.iloc[:, 0], df2_plot.iloc[:, 1], c=color_idx, cmap=cmap, alpha=0.5, s=50)\n",
        "ax1.set_ylabel('Principal Component 2')\n",
        "\n",
        "# Right plot\n",
        "ax2.scatter(df2_plot.iloc[:,0], df2_plot.iloc[:,2], c=color_idx, cmap=cmap, alpha=0.5, s=50)\n",
        "ax2.set_ylabel('Principal Component 3')\n",
        "\n",
        "# Custom legend for the classes (y) since we do not create scatter plots per class (which could \n",
        "handles = []\n",
        "labels = pd.factorize(y.type.unique())\n",
        "norm = mpl.colors.Normalize(vmin=0.0, vmax=14.0)\n",
        "for i, v in zip(labels[0], labels[1]):\n",
        "    handles.append(mpl.patches.Patch(color=cmap(norm(i)), label=v, alpha=0.5))\n",
        "\n",
        "ax2.legend(handles=handles, bbox_to_anchor=(1.05, 1), loc=2, borderaxespad=0.)"
      ]
    },
    {
      "cell_type": "code",
      "execution_count": 1242,
      "metadata": {},
      "outputs": [
        {
          "data": {
            "text/html": [
              "<div>\n",
              "<style scoped>\n",
              "    .dataframe tbody tr th:only-of-type {\n",
              "        vertical-align: middle;\n",
              "    }\n",
              "\n",
              "    .dataframe tbody tr th {\n",
              "        vertical-align: top;\n",
              "    }\n",
              "\n",
              "    .dataframe thead th {\n",
              "        text-align: right;\n",
              "    }\n",
              "</style>\n",
              "<table border=\"1\" class=\"dataframe\">\n",
              "  <thead>\n",
              "    <tr style=\"text-align: right;\">\n",
              "      <th></th>\n",
              "      <th>PC1</th>\n",
              "      <th>PC2</th>\n",
              "      <th>PC3</th>\n",
              "      <th>PC4</th>\n",
              "      <th>PC5</th>\n",
              "    </tr>\n",
              "  </thead>\n",
              "  <tbody>\n",
              "    <tr>\n",
              "      <th>Standard Deviation</th>\n",
              "      <td>27.853469</td>\n",
              "      <td>21.481355</td>\n",
              "      <td>19.820465</td>\n",
              "      <td>17.032556</td>\n",
              "      <td>15.971807</td>\n",
              "    </tr>\n",
              "    <tr>\n",
              "      <th>Proportion of Variance</th>\n",
              "      <td>0.113589</td>\n",
              "      <td>0.067562</td>\n",
              "      <td>0.057518</td>\n",
              "      <td>0.042476</td>\n",
              "      <td>0.037350</td>\n",
              "    </tr>\n",
              "    <tr>\n",
              "      <th>Cumulative Proportion</th>\n",
              "      <td>0.113589</td>\n",
              "      <td>0.181151</td>\n",
              "      <td>0.238670</td>\n",
              "      <td>0.281145</td>\n",
              "      <td>0.318495</td>\n",
              "    </tr>\n",
              "  </tbody>\n",
              "</table>\n",
              "</div>"
            ],
            "text/plain": [
              "                              PC1        PC2        PC3        PC4        PC5\n",
              "Standard Deviation      27.853469  21.481355  19.820465  17.032556  15.971807\n",
              "Proportion of Variance   0.113589   0.067562   0.057518   0.042476   0.037350\n",
              "Cumulative Proportion    0.113589   0.181151   0.238670   0.281145   0.318495"
            ]
          },
          "execution_count": 1242,
          "metadata": {},
          "output_type": "execute_result"
        }
      ],
      "source": [
        "# xlabel for both plots\n",
        "for ax in fig.axes:\n",
        "    ax.set_xlabel('Principal Component 1')\n",
        "\n",
        "pd.DataFrame([df2_plot.iloc[:,:5].std(axis=0, ddof=0).to_numpy(), pca2.explained_variance_ratio_[:5], \n",
        "        np.cumsum(pca2.explained_variance_ratio_[:5])], \n",
        "index=['Standard Deviation', 'Proportion of Variance', 'Cumulative Proportion'], \n",
        "columns=['PC1', 'PC2', 'PC3', 'PC4', 'PC5'])\n"
      ]
    },
    {
      "cell_type": "code",
      "execution_count": 1243,
      "metadata": {},
      "outputs": [
        {
          "data": {
            "text/plain": [
              "Text(0.5, 0, 'Principal components')"
            ]
          },
          "execution_count": 1243,
          "metadata": {},
          "output_type": "execute_result"
        },
        {
          "data": {
            "image/png": "[encoded data removed]",
            "text/plain": [
              "<Figure size 432x288 with 1 Axes>"
            ]
          },
          "metadata": {
            "needs_background": "light"
          },
          "output_type": "display_data"
        }
      ],
      "source": [
        "df2_plot.iloc[:,:10].var(axis=0, ddof=0).plot(kind='bar', rot=0)\n",
        "plt.ylabel('Variances')\n",
        "plt.xlabel('Principal components')"
      ]
    },
    {
      "cell_type": "code",
      "execution_count": 1244,
      "metadata": {},
      "outputs": [
        {
          "data": {
            "image/png": "[encoded data removed]",
            "text/plain": [
              "<Figure size 1080x360 with 2 Axes>"
            ]
          },
          "metadata": {
            "needs_background": "light"
          },
          "output_type": "display_data"
        }
      ],
      "source": [
        "# plot of the PVE of each principal component\n",
        "fig , (ax1,ax2)=plt.subplots(1,2, figsize=(15,5))\n",
        "\n",
        "# Left plot\n",
        "ax1.plot(pca2.explained_variance_ratio_,'-o')\n",
        "ax1.set_ylabel('Proportion of Variance Explained')\n",
        "ax1.set_ylim(ymin=-0.01)\n",
        "\n",
        "# Right plot\n",
        "ax2.plot(np.cumsum(pca2.explained_variance_ratio_),'-ro')\n",
        "ax2.set_ylabel('Cumulative Proportion of Variance Explained')\n",
        "ax2.set_ylim(ymax=1.05)\n",
        "for ax in fig.axes:\n",
        "    ax.set_xlabel('Principal Component')\n",
        "    ax.set_xlim(-1,65)"
      ]
    },
    {
      "cell_type": "markdown",
      "metadata": {},
      "source": []
    }
  ],
  "metadata": {
    "colab": {
      "collapsed_sections": [],
      "name": "PCA.ipynb",
      "provenance": []
    },
    "kernelspec": {
      "display_name": "Python 3",
      "name": "python3"
    },
    "language_info": {
      "codemirror_mode": {
        "name": "ipython",
        "version": 3
      },
      "file_extension": ".py",
      "mimetype": "text/x-python",
      "name": "python",
      "nbconvert_exporter": "python",
      "pygments_lexer": "ipython3",
      "version": "3.8.5"
    }
  },
  "nbformat": 4,
  "nbformat_minor": 0
}
