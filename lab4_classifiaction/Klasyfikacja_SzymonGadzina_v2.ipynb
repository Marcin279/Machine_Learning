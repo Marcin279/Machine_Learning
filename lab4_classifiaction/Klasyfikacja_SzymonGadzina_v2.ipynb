{
 "cells": [
  {
   "cell_type": "markdown",
   "metadata": {},
   "source": [
    "Zad 1"
   ]
  },
  {
   "cell_type": "code",
   "execution_count": 90,
   "metadata": {},
   "outputs": [],
   "source": [
    "\n",
    "from sklearn import datasets\n",
    "from sklearn.model_selection import train_test_split\n",
    "from scipy.spatial import distance\n",
    "from sklearn.metrics import accuracy_score\n",
    "import numpy as np\n",
    "iris = datasets.load_iris()\n",
    "iris_X = iris.data\n",
    "iris_Y = iris.target\n",
    "iris_X = (iris_X - iris_X.mean()) / iris_X.std()\n",
    "#separate the set for teaching and testing, test_size - percentage share (example 70% for training and 30% for testing)\n",
    "features_train, features_test, labels_train, labels_test = train_test_split(iris_X, iris_Y, test_size=0.3)\n",
    " #An example of using the Euclidean distance\n",
    "# a = (1, 2, 3)\n",
    "# b = (4, 5, 6)\n",
    "# dst = distance.euclidean(a, b)\n",
    "# Checking the effectiveness of the classifier\n",
    "# output = accuracy_score(labels_test, predictions)\n",
    "# print(output)\n",
    "k=10\n",
    "predict=[]\n"
   ]
  },
  {
   "cell_type": "code",
   "execution_count": 91,
   "metadata": {},
   "outputs": [],
   "source": [
    "def fun(k,features_test,features_train,labels_train, labels_test):    \n",
    "    for i in range(0, len(features_test)):\n",
    "        dis = []\n",
    "        p0 = 0\n",
    "        p1 = 0\n",
    "        p2 = 0\n",
    "        for j in range(0, len(features_train)):\n",
    "            dst = distance.euclidean(features_test[i], features_train[j])\n",
    "            tup = (dst, labels_train[j])\n",
    "            dis.append(tup)\n",
    "        dis.sort()\n",
    "        dis = dis[:k]\n",
    "        species = np.matrix(dis)\n",
    "        species = species[:, 1]\n",
    "        for s in species:\n",
    "            if s == 0:\n",
    "                p0 += 1\n",
    "            elif s == 1:\n",
    "                p1 += 1\n",
    "            else:\n",
    "                p2 += 1\n",
    "        if p0 >= p1 and p0 >= p2:\n",
    "            predict.append(0)\n",
    "        elif p1 >= p0 and p1 >= p2:\n",
    "            predict.append(1)\n",
    "        else:\n",
    "            predict.append(2)\n",
    "    return labels_test, predict"
   ]
  },
  {
   "cell_type": "code",
   "execution_count": 92,
   "metadata": {},
   "outputs": [
    {
     "name": "stdout",
     "output_type": "stream",
     "text": [
      "[2 1 1 1 1 0 0 2 2 2 0 1 0 1 1 1 0 1 1 0 0 2 1 2 0 1 0 1 1 1 1 1 2 1 2 2 1\n",
      " 2 1 1 2 1 2 0 2] [2, 1, 1, 1, 1, 0, 0, 2, 2, 2, 0, 1, 0, 1, 1, 1, 0, 1, 1, 0, 0, 2, 1, 2, 0, 1, 0, 1, 1, 1, 1, 1, 2, 1, 2, 2, 1, 2, 1, 1, 2, 2, 2, 0, 2]\n"
     ]
    }
   ],
   "source": [
    "[labels_test, predict] = fun(k,features_test,features_train,labels_train, labels_test)\n",
    "print(labels_test, predict)\n"
   ]
  },
  {
   "cell_type": "code",
   "execution_count": 93,
   "metadata": {},
   "outputs": [
    {
     "name": "stdout",
     "output_type": "stream",
     "text": [
      "0.9777777777777777\n"
     ]
    }
   ],
   "source": [
    "output = accuracy_score(labels_test, predict)\n",
    "print(output)"
   ]
  },
  {
   "cell_type": "markdown",
   "metadata": {},
   "source": [
    "Zad 2"
   ]
  },
  {
   "cell_type": "code",
   "execution_count": 94,
   "metadata": {},
   "outputs": [
    {
     "name": "stdout",
     "output_type": "stream",
     "text": [
      "0.9555555555555556\n"
     ]
    }
   ],
   "source": [
    "from sklearn.neighbors import KNeighborsClassifier\n",
    "import numpy as np\n",
    "iris = datasets.load_iris()\n",
    "iris_X = iris.data\n",
    "iris_Y = iris.target\n",
    "iris_X = (iris_X - iris_X.mean()) / iris_X.std() \n",
    "features_train, features_test, labels_train, labels_test = train_test_split(iris_X, iris_Y, test_size=0.3)\n",
    "k = 10\n",
    "knn = KNeighborsClassifier(n_neighbors=k, p=2, metric='minkowski')\n",
    "knn.fit(features_train, labels_train)\n",
    "predict = knn.predict(features_test)\n",
    "output = accuracy_score(labels_test, predict)\n",
    "print(output)"
   ]
  },
  {
   "cell_type": "markdown",
   "metadata": {},
   "source": [
    "Zad 3"
   ]
  },
  {
   "cell_type": "code",
   "execution_count": 95,
   "metadata": {},
   "outputs": [],
   "source": [
    "from sklearn.datasets import load_iris\n",
    "from sklearn import tree\n",
    "import os\n",
    "os.environ[\"PATH\"] += os.pathsep + 'C:/Program Files (x86)/Graphviz2.38/bin/'\n",
    "iris = load_iris()\n",
    "clf = tree.DecisionTreeClassifier()\n",
    "clf.fit(iris.data, iris.target)\n",
    "\n",
    "clf.predict(iris.data[:1, :])\n",
    "clf.predict_proba(iris.data[:1, :])\n",
    "from six import StringIO  \n",
    "import pydot \n",
    "dot_data = StringIO() \n",
    "tree.export_graphviz(clf, out_file=dot_data) \n",
    "graph = pydot.graph_from_dot_data(dot_data.getvalue()) \n",
    "graph[0].write_png('iris.png')\n"
   ]
  },
  {
   "cell_type": "markdown",
   "metadata": {},
   "source": [
    "Exercise"
   ]
  },
  {
   "cell_type": "code",
   "execution_count": 96,
   "metadata": {},
   "outputs": [
    {
     "name": "stdout",
     "output_type": "stream",
     "text": [
      "Liczba cyfr:  60000\n",
      "Liczba pikseli w jednym obrazie:  784\n"
     ]
    },
    {
     "name": "stderr",
     "output_type": "stream",
     "text": [
      "C:\\Users\\szyke\\anaconda3\\lib\\site-packages\\matplotlib\\text.py:1165: FutureWarning: elementwise comparison failed; returning scalar instead, but in the future will perform elementwise comparison\n",
      "  if s != self._text:\n"
     ]
    },
    {
     "data": {
      "image/png": "[encoded data removed]",
      "text/plain": [
       "<Figure size 518.4x518.4 with 12 Axes>"
      ]
     },
     "metadata": {},
     "output_type": "display_data"
    },
    {
     "name": "stdout",
     "output_type": "stream",
     "text": [
      "F1 =  0.8665000000000002\n",
      "[[ 914    0    8    8    6   12   10    5   14    3]\n",
      " [   1 1088   12   14    2    5    2    1   10    0]\n",
      " [  11   13  867   21   22   11   10   32   34   11]\n",
      " [   7    5   39  845    6   46    4   19   20   19]\n",
      " [   3    4    6    7  834   12   12    9   27   68]\n",
      " [  15    8    5   49   13  719   23    8   30   22]\n",
      " [  25    6   13    8   34   18  830    2   20    2]\n",
      " [   2   14   23   10   11    6    0  905   11   46]\n",
      " [  11   10   29   37   14   22   18    9  796   28]\n",
      " [  13    3    6   31   24   13    5   13   34  867]]\n",
      "              precision    recall  f1-score   support\n",
      "\n",
      "           0       0.91      0.93      0.92       980\n",
      "           1       0.95      0.96      0.95      1135\n",
      "           2       0.86      0.84      0.85      1032\n",
      "           3       0.82      0.84      0.83      1010\n",
      "           4       0.86      0.85      0.86       982\n",
      "           5       0.83      0.81      0.82       892\n",
      "           6       0.91      0.87      0.89       958\n",
      "           7       0.90      0.88      0.89      1028\n",
      "           8       0.80      0.82      0.81       974\n",
      "           9       0.81      0.86      0.84      1009\n",
      "\n",
      "    accuracy                           0.87     10000\n",
      "   macro avg       0.87      0.86      0.86     10000\n",
      "weighted avg       0.87      0.87      0.87     10000\n",
      "\n"
     ]
    }
   ],
   "source": [
    "import matplotlib.pyplot as plt\n",
    "from sklearn.metrics import classification_report, confusion_matrix, f1_score\n",
    "from scipy.io import loadmat\n",
    "def plot_mnist(img, title, h, w, row=3, col=4):\n",
    "    plt.figure(figsize=(1.8 * col, 2.4 * row))\n",
    "    plt.subplots_adjust(bottom=0, left=.01, right=.99, top=.90, hspace=.05)\n",
    "    for i in range(row * col):\n",
    "        plt.subplot(row, col, i + 1)\n",
    "        plt.imshow(img[i].reshape((h, w)), cmap=plt.cm.gray)\n",
    "        plt.title(title[i], size=12)\n",
    "        plt.xticks(())\n",
    "        plt.yticks(())\n",
    "dane = loadmat('mnist.mat')\n",
    "features_train= dane['trainX']\n",
    "labels_train = dane['trainY']\n",
    "features_test=dane['testX']\n",
    "labels_test=dane['testY']\n",
    "labels_train=labels_train.T\n",
    "labels_test=labels_test.T\n",
    "h = 28\n",
    "w = 28\n",
    "print(\"Liczba cyfr: \", features_train.shape[0])\n",
    "print('Liczba pikseli w jednym obrazie: ', features_train.shape[1])\n",
    "plot_mnist(features_train, labels_train, h, w)\n",
    "plt.show()\n",
    "DEPTH = 10\n",
    "tree = tree.DecisionTreeClassifier(max_depth = DEPTH)\n",
    "tree.fit(features_train, labels_train)\n",
    "predict = tree.predict(features_test)\n",
    "f1 = f1_score(labels_test, predict, average='micro')\n",
    "print('F1 = ', f1)\n",
    "c = confusion_matrix(labels_test, predict)\n",
    "print(c)\n",
    "report = classification_report(labels_test, predict)\n",
    "print(report)"
   ]
  }
 ],
 "metadata": {
  "interpreter": {
   "hash": "194bfb4d473127e00f36a2b97d5e5de146890be25bb76472c8c61c22205696a1"
  },
  "kernelspec": {
   "display_name": "Python 3.8.3 ('base')",
   "language": "python",
   "name": "python3"
  },
  "language_info": {
   "codemirror_mode": {
    "name": "ipython",
    "version": 3
   },
   "file_extension": ".py",
   "mimetype": "text/x-python",
   "name": "python",
   "nbconvert_exporter": "python",
   "pygments_lexer": "ipython3",
   "version": "3.8.3"
  },
  "orig_nbformat": 4
 },
 "nbformat": 4,
 "nbformat_minor": 2
}
