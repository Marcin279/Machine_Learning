{
 "cells": [
  {
   "cell_type": "markdown",
   "metadata": {},
   "source": [
    "# Classification\n",
    "\n",
    "## Marcin Biela"
   ]
  },
  {
   "cell_type": "markdown",
   "metadata": {},
   "source": [
    "Ex.1"
   ]
  },
  {
   "cell_type": "code",
   "execution_count": 21,
   "metadata": {},
   "outputs": [
    {
     "name": "stdout",
     "output_type": "stream",
     "text": [
      "5.196152422706632\n"
     ]
    }
   ],
   "source": [
    "\n",
    "from sklearn import datasets\n",
    "from sklearn.model_selection import train_test_split\n",
    "from scipy.spatial import distance\n",
    "from sklearn.metrics import accuracy_score\n",
    "import numpy as np\n",
    "iris = datasets.load_iris()\n",
    "iris_X = iris.data\n",
    "iris_Y = iris.target\n",
    "iris_X = (iris_X - iris_X.mean()) / iris_X.std()\n",
    "#separate the set for teaching and testing, test_size - percentage share (example 70% for training and 30% for testing)\n",
    "features_train, features_test, labels_train, labels_test = train_test_split(iris_X, iris_Y, test_size=0.3)\n",
    " #An example of using the Euclidean distance\n",
    "a = (1, 2, 3)\n",
    "b = (4, 5, 6)\n",
    "dst = distance.euclidean(a, b)\n",
    "print(dst)\n",
    "# Checking the effectiveness of the classifier\n",
    "# output = accuracy_score(labels_test, predictions)\n"
   ]
  },
  {
   "cell_type": "markdown",
   "metadata": {},
   "source": [
    "**Please provide your own implementation of the “K nearest neighbors” algorithm.**"
   ]
  },
  {
   "cell_type": "code",
   "execution_count": 22,
   "metadata": {},
   "outputs": [],
   "source": [
    "def fun(k,features_test,features_train,labels_train, labels_test):    \n",
    "    for i in range(0, len(features_test)):\n",
    "        distance_ = []\n",
    "        pr0 = 0\n",
    "        pr1 = 0\n",
    "        pr2 = 0\n",
    "        for j in range(0, len(features_train)):\n",
    "            dst = distance.euclidean(features_test[i], features_train[j])\n",
    "            tup = (dst, labels_train[j])\n",
    "            distance_.append(tup)\n",
    "        distance_.sort()\n",
    "        distance_ = distance_[:k]\n",
    "        species = np.matrix(distance_)\n",
    "        species = species[:, 1]\n",
    "        for s in species:\n",
    "            if s == 0:\n",
    "                pr0 += 1\n",
    "            elif s == 1:\n",
    "                pr1 += 1\n",
    "            else:\n",
    "                pr2 += 1\n",
    "        if pr0 >= pr1 and pr0 >= pr2:\n",
    "            predict.append(0)\n",
    "        elif pr1 >= pr0 and pr1 >= pr2:\n",
    "            predict.append(1)\n",
    "        else:\n",
    "            predict.append(2)\n",
    "    return labels_test, predict"
   ]
  },
  {
   "cell_type": "code",
   "execution_count": 23,
   "metadata": {},
   "outputs": [
    {
     "name": "stdout",
     "output_type": "stream",
     "text": [
      "labels test:  [1, 0, 0, 2, 2, 1, 1, 0, 1, 2, 2, 1, 1, 0, 1, 1, 2, 1, 0, 0, 0, 2, 0, 1, 0, 0, 1, 2, 1, 0, 1, 0, 2, 0, 0, 1, 0, 2, 2, 1, 1, 2, 2, 2, 1]\n",
      "Predict:  [1, 0, 0, 2, 2, 1, 1, 0, 1, 2, 2, 1, 1, 0, 1, 1, 2, 1, 0, 0, 0, 2, 0, 1, 0, 0, 1, 2, 1, 0, 1, 0, 2, 0, 0, 1, 0, 2, 1, 1, 1, 2, 2, 2, 1]\n"
     ]
    }
   ],
   "source": [
    "k=10\n",
    "predict = []\n",
    "[labels_test, predict] = fun(k,features_test,features_train,labels_train, labels_test)\n",
    "print(\"labels test: \", list(labels_test))\n",
    "print(\"Predict: \", predict)\n"
   ]
  },
  {
   "cell_type": "code",
   "execution_count": 24,
   "metadata": {},
   "outputs": [
    {
     "name": "stdout",
     "output_type": "stream",
     "text": [
      " Accurracy: 0.98\n"
     ]
    }
   ],
   "source": [
    "output = accuracy_score(labels_test, predict)\n",
    "print(f\" Accurracy: {output:.2f}\")"
   ]
  },
  {
   "cell_type": "markdown",
   "metadata": {},
   "source": [
    "Ex.2 **kNN - Python (sklearn)**"
   ]
  },
  {
   "cell_type": "code",
   "execution_count": 25,
   "metadata": {},
   "outputs": [
    {
     "name": "stdout",
     "output_type": "stream",
     "text": [
      " Accurracy: 0.96\n"
     ]
    }
   ],
   "source": [
    "from sklearn.neighbors import KNeighborsClassifier\n",
    "import numpy as np\n",
    "iris = datasets.load_iris()\n",
    "iris_X = iris.data\n",
    "iris_Y = iris.target\n",
    "iris_X = (iris_X - iris_X.mean()) / iris_X.std() \n",
    "features_train, features_test, labels_train, labels_test = train_test_split(iris_X, iris_Y, test_size=0.3)\n",
    "k = 10\n",
    "knn = KNeighborsClassifier(n_neighbors=k, p=2, metric='minkowski')\n",
    "knn.fit(features_train, labels_train)\n",
    "predict = knn.predict(features_test)\n",
    "output_1 = accuracy_score(labels_test, predict)\n",
    "print(f\" Accurracy: {output_1:.2f}\")"
   ]
  },
  {
   "cell_type": "markdown",
   "metadata": {},
   "source": [
    "Ex.3 **Decision Tree**"
   ]
  },
  {
   "cell_type": "code",
   "execution_count": 26,
   "metadata": {},
   "outputs": [],
   "source": [
    "from sklearn.datasets import load_iris\n",
    "from sklearn import tree\n",
    "import os\n",
    "from six import StringIO  \n",
    "import pydot \n",
    "\n",
    "os.environ[\"PATH\"] += os.pathsep + 'C:/Program Files (x86)/Graphviz2.38/bin/'\n",
    "iris = load_iris()\n",
    "clf = tree.DecisionTreeClassifier()\n",
    "clf.fit(iris.data, iris.target)\n",
    "\n",
    "clf.predict(iris.data[:1, :])\n",
    "clf.predict_proba(iris.data[:1, :])\n",
    "dot_data = StringIO() \n",
    "tree.export_graphviz(clf, out_file=dot_data) \n",
    "graph = pydot.graph_from_dot_data(dot_data.getvalue()) \n",
    "graph[0].write_png('iris.png')"
   ]
  },
  {
   "cell_type": "markdown",
   "metadata": {},
   "source": [
    "Import libraries"
   ]
  },
  {
   "cell_type": "code",
   "execution_count": 27,
   "metadata": {},
   "outputs": [],
   "source": [
    "import matplotlib.pyplot as plt\n",
    "from sklearn.metrics import classification_report, confusion_matrix, f1_score, ConfusionMatrixDisplay\n",
    "from scipy.io import loadmat"
   ]
  },
  {
   "cell_type": "markdown",
   "metadata": {},
   "source": [
    "Plot Mnist function"
   ]
  },
  {
   "cell_type": "code",
   "execution_count": 28,
   "metadata": {},
   "outputs": [],
   "source": [
    "def plot_mnist(images, titles, h, w, n_row=3, col=4):\n",
    "    plt.figure(figsize=(1.8 * col, 2.4 * n_row))\n",
    "    plt.subplots_adjust(bottom=0, left=.01, right=.99, top=.90, hspace=.05)\n",
    "    for i in range(n_row * col):\n",
    "        plt.subplot(n_row, col, i + 1)\n",
    "        plt.imshow(images[i].reshape((h, w)), cmap=plt.cm.gray)\n",
    "        plt.title(titles[i], size=12)\n",
    "        plt.xticks(())\n",
    "        plt.yticks(())\n",
    "        "
   ]
  },
  {
   "cell_type": "code",
   "execution_count": 29,
   "metadata": {},
   "outputs": [
    {
     "name": "stdout",
     "output_type": "stream",
     "text": [
      "Liczba cyfr:  60000\n",
      "Liczba pikseli w jednym obrazie:  784\n"
     ]
    },
    {
     "name": "stderr",
     "output_type": "stream",
     "text": [
      "C:\\ProgramData\\Anaconda3\\lib\\site-packages\\matplotlib\\text.py:1165: FutureWarning: elementwise comparison failed; returning scalar instead, but in the future will perform elementwise comparison\n",
      "  if s != self._text:\n"
     ]
    },
    {
     "data": {
      "image/png": "[encoded data removed]",
      "text/plain": [
       "<Figure size 518.4x518.4 with 12 Axes>"
      ]
     },
     "metadata": {},
     "output_type": "display_data"
    }
   ],
   "source": [
    "data = loadmat('mnist.mat')\n",
    "# dane = loadmat(\"https://github.com/Marcin279/Machine_Learning/blob/main/lab4_classifiaction/mnist.mat\")\n",
    "features_train= data['trainX']\n",
    "labels_train = data['trainY']\n",
    "features_test=data['testX']\n",
    "labels_test=data['testY']\n",
    "labels_train=labels_train.T\n",
    "labels_test=labels_test.T\n",
    "height = 28\n",
    "weight = 28\n",
    "print(\"Liczba cyfr: \", features_train.shape[0])\n",
    "print('Liczba pikseli w jednym obrazie: ', features_train.shape[1])\n",
    "plot_mnist(features_train, labels_train, height, weight)\n",
    "plt.show()"
   ]
  },
  {
   "cell_type": "code",
   "execution_count": 30,
   "metadata": {},
   "outputs": [
    {
     "name": "stdout",
     "output_type": "stream",
     "text": [
      "F1 Score =  0.8662704167257592\n",
      "[[ 915    0    9   10    6   10    9    5   13    3]\n",
      " [   1 1087   12   16    2    5    2    1    9    0]\n",
      " [  13   11  863   21   24   11    9   36   34   10]\n",
      " [   8    4   35  846    7   47    3   19   23   18]\n",
      " [   3    4    7   11  833    9   11    9   27   68]\n",
      " [  15   10    4   50   13  718   20    8   30   24]\n",
      " [  24    5   13    8   32   17  833    1   23    2]\n",
      " [   2   14   24   10   10    6    1  906   11   44]\n",
      " [  10   10   27   38   15   25   18    8  795   28]\n",
      " [  13    3    7   31   24   16    5   13   31  866]]\n",
      "              precision    recall  f1-score   support\n",
      "\n",
      "           0       0.91      0.93      0.92       980\n",
      "           1       0.95      0.96      0.95      1135\n",
      "           2       0.86      0.84      0.85      1032\n",
      "           3       0.81      0.84      0.82      1010\n",
      "           4       0.86      0.85      0.86       982\n",
      "           5       0.83      0.80      0.82       892\n",
      "           6       0.91      0.87      0.89       958\n",
      "           7       0.90      0.88      0.89      1028\n",
      "           8       0.80      0.82      0.81       974\n",
      "           9       0.81      0.86      0.84      1009\n",
      "\n",
      "    accuracy                           0.87     10000\n",
      "   macro avg       0.87      0.86      0.86     10000\n",
      "weighted avg       0.87      0.87      0.87     10000\n",
      "\n"
     ]
    }
   ],
   "source": [
    "DEPTH = 10\n",
    "tree = tree.DecisionTreeClassifier(max_depth=DEPTH)\n",
    "tree.fit(features_train, labels_train)\n",
    "predict = tree.predict(features_test)\n",
    "f1 = f1_score(labels_test, predict, average='weighted')\n",
    "print('F1 Score = ', f1)\n",
    "c = confusion_matrix(labels_test, predict)\n",
    "print(c)\n",
    "report = classification_report(labels_test, predict)\n",
    "print(report)"
   ]
  },
  {
   "cell_type": "code",
   "execution_count": 31,
   "metadata": {},
   "outputs": [
    {
     "data": {
      "image/png": "[encoded data removed]",
      "text/plain": [
       "<Figure size 432x288 with 2 Axes>"
      ]
     },
     "metadata": {},
     "output_type": "display_data"
    }
   ],
   "source": [
    "# Heatmap\n",
    "\n",
    "import pandas as pd\n",
    "import seaborn as sn\n",
    "df_cm = pd.DataFrame(c, range(10), range(10))\n",
    "\n",
    "sn.set(font_scale=1.4)\n",
    "sn.heatmap(df_cm)\n",
    "plt.show()"
   ]
  }
 ],
 "metadata": {
  "interpreter": {
   "hash": "194bfb4d473127e00f36a2b97d5e5de146890be25bb76472c8c61c22205696a1"
  },
  "kernelspec": {
   "display_name": "Python 3.8.3 ('base')",
   "language": "python",
   "name": "python3"
  },
  "language_info": {
   "codemirror_mode": {
    "name": "ipython",
    "version": 3
   },
   "file_extension": ".py",
   "mimetype": "text/x-python",
   "name": "python",
   "nbconvert_exporter": "python",
   "pygments_lexer": "ipython3",
   "version": "3.8.5"
  },
  "orig_nbformat": 4
 },
 "nbformat": 4,
 "nbformat_minor": 2
}
