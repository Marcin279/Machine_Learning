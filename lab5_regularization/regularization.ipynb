{
 "cells": [
  {
   "cell_type": "markdown",
   "metadata": {},
   "source": [
    "# Regularization\n",
    "\n",
    "## Marcin Biela, 302959\n"
   ]
  },
  {
   "cell_type": "code",
   "execution_count": 1794,
   "metadata": {},
   "outputs": [],
   "source": [
    "# Imports\n",
    "import sklearn\n",
    "import matplotlib.pyplot as plt\n",
    "from sklearn.datasets import load_boston, load_breast_cancer\n",
    "import pandas as pd\n",
    "from sklearn.model_selection import train_test_split\n",
    "from sklearn.linear_model import LinearRegression, Ridge, Lasso, LogisticRegression\n",
    "from sklearn.preprocessing import StandardScaler, PolynomialFeatures\n",
    "from sklearn.metrics import mean_squared_error, accuracy_score\n",
    "from sklearn.neighbors import KNeighborsClassifier\n",
    "from sklearn.tree import DecisionTreeClassifier"
   ]
  },
  {
   "cell_type": "code",
   "execution_count": 1795,
   "metadata": {},
   "outputs": [
    {
     "name": "stderr",
     "output_type": "stream",
     "text": [
      "C:\\ProgramData\\Anaconda3\\lib\\site-packages\\sklearn\\utils\\deprecation.py:87: FutureWarning: Function load_boston is deprecated; `load_boston` is deprecated in 1.0 and will be removed in 1.2.\n",
      "\n",
      "    The Boston housing prices dataset has an ethical problem. You can refer to\n",
      "    the documentation of this function for further details.\n",
      "\n",
      "    The scikit-learn maintainers therefore strongly discourage the use of this\n",
      "    dataset unless the purpose of the code is to study and educate about\n",
      "    ethical issues in data science and machine learning.\n",
      "\n",
      "    In this special case, you can fetch the dataset from the original\n",
      "    source::\n",
      "\n",
      "        import pandas as pd\n",
      "        import numpy as np\n",
      "\n",
      "\n",
      "        data_url = \"http://lib.stat.cmu.edu/datasets/boston\"\n",
      "        raw_df = pd.read_csv(data_url, sep=\"\\s+\", skiprows=22, header=None)\n",
      "        data = np.hstack([raw_df.values[::2, :], raw_df.values[1::2, :2]])\n",
      "        target = raw_df.values[1::2, 2]\n",
      "\n",
      "    Alternative datasets include the California housing dataset (i.e.\n",
      "    :func:`~sklearn.datasets.fetch_california_housing`) and the Ames housing\n",
      "    dataset. You can load the datasets as follows::\n",
      "\n",
      "        from sklearn.datasets import fetch_california_housing\n",
      "        housing = fetch_california_housing()\n",
      "\n",
      "    for the California housing dataset and::\n",
      "\n",
      "        from sklearn.datasets import fetch_openml\n",
      "        housing = fetch_openml(name=\"house_prices\", as_frame=True)\n",
      "\n",
      "    for the Ames housing dataset.\n",
      "    \n",
      "  warnings.warn(msg, category=FutureWarning)\n"
     ]
    }
   ],
   "source": [
    "# Boston data Loading\n",
    "boston = load_boston()"
   ]
  },
  {
   "cell_type": "code",
   "execution_count": 1796,
   "metadata": {},
   "outputs": [
    {
     "name": "stdout",
     "output_type": "stream",
     "text": [
      "dict_keys(['data', 'target', 'feature_names', 'DESCR', 'filename', 'data_module'])\n",
      "(506, 13)\n"
     ]
    }
   ],
   "source": [
    "# Boston keys and shape\n",
    "print(boston.keys())\n",
    "print(boston.data.shape)"
   ]
  },
  {
   "cell_type": "code",
   "execution_count": 1797,
   "metadata": {},
   "outputs": [
    {
     "name": "stdout",
     "output_type": "stream",
     "text": [
      ".. _boston_dataset:\n",
      "\n",
      "Boston house prices dataset\n",
      "---------------------------\n",
      "\n",
      "**Data Set Characteristics:**  \n",
      "\n",
      "    :Number of Instances: 506 \n",
      "\n",
      "    :Number of Attributes: 13 numeric/categorical predictive. Median Value (attribute 14) is usually the target.\n",
      "\n",
      "    :Attribute Information (in order):\n",
      "        - CRIM     per capita crime rate by town\n",
      "        - ZN       proportion of residential land zoned for lots over 25,000 sq.ft.\n",
      "        - INDUS    proportion of non-retail business acres per town\n",
      "        - CHAS     Charles River dummy variable (= 1 if tract bounds river; 0 otherwise)\n",
      "        - NOX      nitric oxides concentration (parts per 10 million)\n",
      "        - RM       average number of rooms per dwelling\n",
      "        - AGE      proportion of owner-occupied units built prior to 1940\n",
      "        - DIS      weighted distances to five Boston employment centres\n",
      "        - RAD      index of accessibility to radial highways\n",
      "        - TAX      full-value property-tax rate per $10,000\n",
      "        - PTRATIO  pupil-teacher ratio by town\n",
      "        - B        1000(Bk - 0.63)^2 where Bk is the proportion of black people by town\n",
      "        - LSTAT    % lower status of the population\n",
      "        - MEDV     Median value of owner-occupied homes in $1000's\n",
      "\n",
      "    :Missing Attribute Values: None\n",
      "\n",
      "    :Creator: Harrison, D. and Rubinfeld, D.L.\n",
      "\n",
      "This is a copy of UCI ML housing dataset.\n",
      "https://archive.ics.uci.edu/ml/machine-learning-databases/housing/\n",
      "\n",
      "\n",
      "This dataset was taken from the StatLib library which is maintained at Carnegie Mellon University.\n",
      "\n",
      "The Boston house-price data of Harrison, D. and Rubinfeld, D.L. 'Hedonic\n",
      "prices and the demand for clean air', J. Environ. Economics & Management,\n",
      "vol.5, 81-102, 1978.   Used in Belsley, Kuh & Welsch, 'Regression diagnostics\n",
      "...', Wiley, 1980.   N.B. Various transformations are used in the table on\n",
      "pages 244-261 of the latter.\n",
      "\n",
      "The Boston house-price data has been used in many machine learning papers that address regression\n",
      "problems.   \n",
      "     \n",
      ".. topic:: References\n",
      "\n",
      "   - Belsley, Kuh & Welsch, 'Regression diagnostics: Identifying Influential Data and Sources of Collinearity', Wiley, 1980. 244-261.\n",
      "   - Quinlan,R. (1993). Combining Instance-Based and Model-Based Learning. In Proceedings on the Tenth International Conference of Machine Learning, 236-243, University of Massachusetts, Amherst. Morgan Kaufmann.\n",
      "\n"
     ]
    }
   ],
   "source": [
    "# Boston dataset description\n",
    "print(boston.DESCR)"
   ]
  },
  {
   "cell_type": "code",
   "execution_count": 1798,
   "metadata": {},
   "outputs": [
    {
     "name": "stdout",
     "output_type": "stream",
     "text": [
      "['CRIM' 'ZN' 'INDUS' 'CHAS' 'NOX' 'RM' 'AGE' 'DIS' 'RAD' 'TAX' 'PTRATIO'\n",
      " 'B' 'LSTAT']\n"
     ]
    }
   ],
   "source": [
    "# Poston features name\n",
    "print(boston.feature_names)"
   ]
  },
  {
   "cell_type": "code",
   "execution_count": 1799,
   "metadata": {},
   "outputs": [
    {
     "data": {
      "text/html": [
       "<div>\n",
       "<style scoped>\n",
       "    .dataframe tbody tr th:only-of-type {\n",
       "        vertical-align: middle;\n",
       "    }\n",
       "\n",
       "    .dataframe tbody tr th {\n",
       "        vertical-align: top;\n",
       "    }\n",
       "\n",
       "    .dataframe thead th {\n",
       "        text-align: right;\n",
       "    }\n",
       "</style>\n",
       "<table border=\"1\" class=\"dataframe\">\n",
       "  <thead>\n",
       "    <tr style=\"text-align: right;\">\n",
       "      <th></th>\n",
       "      <th>0</th>\n",
       "      <th>1</th>\n",
       "      <th>2</th>\n",
       "      <th>3</th>\n",
       "      <th>4</th>\n",
       "      <th>5</th>\n",
       "      <th>6</th>\n",
       "      <th>7</th>\n",
       "      <th>8</th>\n",
       "      <th>9</th>\n",
       "      <th>10</th>\n",
       "      <th>11</th>\n",
       "      <th>12</th>\n",
       "    </tr>\n",
       "  </thead>\n",
       "  <tbody>\n",
       "    <tr>\n",
       "      <th>0</th>\n",
       "      <td>0.00632</td>\n",
       "      <td>18.0</td>\n",
       "      <td>2.31</td>\n",
       "      <td>0.0</td>\n",
       "      <td>0.538</td>\n",
       "      <td>6.575</td>\n",
       "      <td>65.2</td>\n",
       "      <td>4.0900</td>\n",
       "      <td>1.0</td>\n",
       "      <td>296.0</td>\n",
       "      <td>15.3</td>\n",
       "      <td>396.90</td>\n",
       "      <td>4.98</td>\n",
       "    </tr>\n",
       "    <tr>\n",
       "      <th>1</th>\n",
       "      <td>0.02731</td>\n",
       "      <td>0.0</td>\n",
       "      <td>7.07</td>\n",
       "      <td>0.0</td>\n",
       "      <td>0.469</td>\n",
       "      <td>6.421</td>\n",
       "      <td>78.9</td>\n",
       "      <td>4.9671</td>\n",
       "      <td>2.0</td>\n",
       "      <td>242.0</td>\n",
       "      <td>17.8</td>\n",
       "      <td>396.90</td>\n",
       "      <td>9.14</td>\n",
       "    </tr>\n",
       "    <tr>\n",
       "      <th>2</th>\n",
       "      <td>0.02729</td>\n",
       "      <td>0.0</td>\n",
       "      <td>7.07</td>\n",
       "      <td>0.0</td>\n",
       "      <td>0.469</td>\n",
       "      <td>7.185</td>\n",
       "      <td>61.1</td>\n",
       "      <td>4.9671</td>\n",
       "      <td>2.0</td>\n",
       "      <td>242.0</td>\n",
       "      <td>17.8</td>\n",
       "      <td>392.83</td>\n",
       "      <td>4.03</td>\n",
       "    </tr>\n",
       "    <tr>\n",
       "      <th>3</th>\n",
       "      <td>0.03237</td>\n",
       "      <td>0.0</td>\n",
       "      <td>2.18</td>\n",
       "      <td>0.0</td>\n",
       "      <td>0.458</td>\n",
       "      <td>6.998</td>\n",
       "      <td>45.8</td>\n",
       "      <td>6.0622</td>\n",
       "      <td>3.0</td>\n",
       "      <td>222.0</td>\n",
       "      <td>18.7</td>\n",
       "      <td>394.63</td>\n",
       "      <td>2.94</td>\n",
       "    </tr>\n",
       "    <tr>\n",
       "      <th>4</th>\n",
       "      <td>0.06905</td>\n",
       "      <td>0.0</td>\n",
       "      <td>2.18</td>\n",
       "      <td>0.0</td>\n",
       "      <td>0.458</td>\n",
       "      <td>7.147</td>\n",
       "      <td>54.2</td>\n",
       "      <td>6.0622</td>\n",
       "      <td>3.0</td>\n",
       "      <td>222.0</td>\n",
       "      <td>18.7</td>\n",
       "      <td>396.90</td>\n",
       "      <td>5.33</td>\n",
       "    </tr>\n",
       "  </tbody>\n",
       "</table>\n",
       "</div>"
      ],
      "text/plain": [
       "        0     1     2    3      4      5     6       7    8      9     10  \\\n",
       "0  0.00632  18.0  2.31  0.0  0.538  6.575  65.2  4.0900  1.0  296.0  15.3   \n",
       "1  0.02731   0.0  7.07  0.0  0.469  6.421  78.9  4.9671  2.0  242.0  17.8   \n",
       "2  0.02729   0.0  7.07  0.0  0.469  7.185  61.1  4.9671  2.0  242.0  17.8   \n",
       "3  0.03237   0.0  2.18  0.0  0.458  6.998  45.8  6.0622  3.0  222.0  18.7   \n",
       "4  0.06905   0.0  2.18  0.0  0.458  7.147  54.2  6.0622  3.0  222.0  18.7   \n",
       "\n",
       "       11    12  \n",
       "0  396.90  4.98  \n",
       "1  396.90  9.14  \n",
       "2  392.83  4.03  \n",
       "3  394.63  2.94  \n",
       "4  396.90  5.33  "
      ]
     },
     "execution_count": 1799,
     "metadata": {},
     "output_type": "execute_result"
    }
   ],
   "source": [
    "# Devide a Feature and Target Dataframes\n",
    "X_boston = pd.DataFrame(boston.data)\n",
    "Y_boston = pd.DataFrame(boston.target)\n",
    "\n",
    "X_boston.head()"
   ]
  },
  {
   "cell_type": "code",
   "execution_count": 1800,
   "metadata": {},
   "outputs": [],
   "source": [
    "# Creating train and test subdatasets\n",
    "\n",
    "X_train, X_test, Y_train, Y_test = train_test_split(X_boston, Y_boston, test_size=0.2, random_state=15)"
   ]
  },
  {
   "cell_type": "code",
   "execution_count": 1801,
   "metadata": {},
   "outputs": [
    {
     "name": "stdout",
     "output_type": "stream",
     "text": [
      "506\n",
      "0.7984189723320159\n",
      "0.2015810276679842\n"
     ]
    }
   ],
   "source": [
    "# Checking if division is correct\n",
    "print(X_boston.shape[0])\n",
    "print(float(X_train.shape[0]) / float(X_boston.shape[0]))\n",
    "print(float(X_test.shape[0]) / float(X_boston.shape[0]))"
   ]
  },
  {
   "cell_type": "markdown",
   "metadata": {},
   "source": [
    "Ex 2 Linear Reggresion"
   ]
  },
  {
   "cell_type": "code",
   "execution_count": 1802,
   "metadata": {},
   "outputs": [
    {
     "name": "stdout",
     "output_type": "stream",
     "text": [
      "predict:  [[28.80383915]\n",
      " [40.26470606]\n",
      " [23.1629741 ]\n",
      " [22.73903454]\n",
      " [26.60248165]\n",
      " [ 6.78850771]\n",
      " [17.98737207]\n",
      " [12.90645395]\n",
      " [28.13880473]\n",
      " [15.96300504]\n",
      " [17.58476405]\n",
      " [22.54993315]\n",
      " [15.57583198]\n",
      " [16.42813922]\n",
      " [20.85701954]\n",
      " [14.4238478 ]\n",
      " [ 8.59570996]\n",
      " [ 7.00268049]\n",
      " [21.90974047]\n",
      " [10.41836313]\n",
      " [38.99970045]\n",
      " [13.10069505]\n",
      " [23.60170542]\n",
      " [19.36745226]\n",
      " [19.4704504 ]\n",
      " [19.44473926]\n",
      " [26.81161139]\n",
      " [21.94644687]\n",
      " [19.910743  ]\n",
      " [19.55839769]\n",
      " [21.33408116]\n",
      " [ 7.97494586]\n",
      " [20.91117634]\n",
      " [20.17838513]\n",
      " [23.55157079]\n",
      " [19.3060909 ]\n",
      " [24.34755999]\n",
      " [28.33114956]\n",
      " [20.98210245]\n",
      " [18.08903855]\n",
      " [28.5614124 ]\n",
      " [36.5386986 ]\n",
      " [20.20828082]\n",
      " [27.06956955]\n",
      " [26.23745421]\n",
      " [21.00792914]\n",
      " [21.1962516 ]\n",
      " [30.55209364]\n",
      " [24.88050603]\n",
      " [20.75515688]\n",
      " [30.57871029]\n",
      " [15.35275076]\n",
      " [14.12154202]\n",
      " [13.92054419]\n",
      " [17.58306333]\n",
      " [30.23390841]\n",
      " [ 7.78156918]\n",
      " [29.50907892]\n",
      " [16.69885153]\n",
      " [26.35705786]\n",
      " [17.51457779]\n",
      " [27.86328712]\n",
      " [18.91817276]\n",
      " [29.7953683 ]\n",
      " [34.10098499]\n",
      " [20.5512098 ]\n",
      " [23.29515547]\n",
      " [18.68891381]\n",
      " [25.08112538]\n",
      " [19.35032023]\n",
      " [19.1694446 ]\n",
      " [23.72302359]\n",
      " [20.74999338]\n",
      " [12.95808177]\n",
      " [34.35553821]\n",
      " [19.44274216]\n",
      " [36.73215655]\n",
      " [17.42275098]\n",
      " [21.05742825]\n",
      " [13.18082562]\n",
      " [14.94614283]\n",
      " [17.52275305]\n",
      " [36.66074388]\n",
      " [22.02822018]\n",
      " [35.41426715]\n",
      " [19.24022396]\n",
      " [29.39844163]\n",
      " [23.18394539]\n",
      " [26.72848257]\n",
      " [20.60326005]\n",
      " [30.16468966]\n",
      " [23.48286643]\n",
      " [38.66342178]\n",
      " [24.02603845]\n",
      " [27.73977974]\n",
      " [34.25622488]\n",
      " [15.16569515]\n",
      " [27.15327868]\n",
      " [23.3801194 ]\n",
      " [24.19411479]\n",
      " [20.05442072]\n",
      " [12.31158995]]\n"
     ]
    }
   ],
   "source": [
    "# Creating LinearRegression model\n",
    "from sklearn.linear_model import LinearRegression\n",
    "\n",
    "reg = LinearRegression().fit(X_train, Y_train)\n",
    "score = reg.score(X_train, Y_train)\n",
    "\n",
    "Y_pred = reg.predict(X_test)\n",
    "\n",
    "print(\"predict: \", Y_pred)"
   ]
  },
  {
   "cell_type": "code",
   "execution_count": 1803,
   "metadata": {},
   "outputs": [
    {
     "name": "stdout",
     "output_type": "stream",
     "text": [
      "(102, 1)\n"
     ]
    }
   ],
   "source": [
    "print(Y_pred.shape)"
   ]
  },
  {
   "cell_type": "code",
   "execution_count": 1804,
   "metadata": {},
   "outputs": [
    {
     "name": "stdout",
     "output_type": "stream",
     "text": [
      "(404, 1)\n"
     ]
    }
   ],
   "source": [
    "print(Y_train.shape)"
   ]
  },
  {
   "cell_type": "code",
   "execution_count": 1805,
   "metadata": {},
   "outputs": [
    {
     "data": {
      "image/png": "[encoded data removed]",
      "text/plain": [
       "<Figure size 432x288 with 1 Axes>"
      ]
     },
     "metadata": {
      "needs_background": "light"
     },
     "output_type": "display_data"
    }
   ],
   "source": [
    "# Ploting real prices and predicted prices\n",
    "fig, ax = plt.subplots()\n",
    "ax.scatter(Y_test, Y_pred)\n",
    "ax.set_xlabel(\"Prices: Y\")\n",
    "ax.set_ylabel(\"Predicted prices: Y_pred\")\n",
    "ax.set_title(\"Prices vs Predicted prices: Y vs Y_pred\")\n",
    "plt.show()"
   ]
  },
  {
   "cell_type": "code",
   "execution_count": 1806,
   "metadata": {},
   "outputs": [
    {
     "name": "stdout",
     "output_type": "stream",
     "text": [
      "MSE:  23.81224546508056\n"
     ]
    }
   ],
   "source": [
    "# Mean squered erros -  MSE\n",
    "MSE = mean_squared_error(Y_test, Y_pred)\n",
    "\n",
    "print(\"MSE: \", MSE)"
   ]
  },
  {
   "cell_type": "code",
   "execution_count": 1807,
   "metadata": {},
   "outputs": [
    {
     "name": "stdout",
     "output_type": "stream",
     "text": [
      "score: 0.6920749038652159\n"
     ]
    }
   ],
   "source": [
    "# Model Score\n",
    "score = reg.score(X_test, Y_test)\n",
    "print(f\"score: {score}\")"
   ]
  },
  {
   "cell_type": "code",
   "execution_count": 1808,
   "metadata": {},
   "outputs": [],
   "source": [
    "# Data normalization using StandardScaler\n",
    "scaler = StandardScaler()\n",
    "X_boston_scaled = scaler.fit_transform(X_boston)\n",
    "\n",
    "\n",
    "# Creating train and test subdatasets\n",
    "X_train, X_test, Y_train, Y_test = train_test_split(X_boston_scaled, Y_boston, test_size=0.2, random_state=15)\n"
   ]
  },
  {
   "cell_type": "code",
   "execution_count": 1809,
   "metadata": {},
   "outputs": [],
   "source": [
    "# Polynomial features\n",
    "poly_model = PolynomialFeatures(degree=2)\n",
    "X_train = poly_model.fit_transform(X_train)\n",
    "X_test = poly_model.fit_transform(X_test)"
   ]
  },
  {
   "cell_type": "code",
   "execution_count": 1810,
   "metadata": {},
   "outputs": [],
   "source": [
    "# Comparison reggression models and their coefficients\n",
    "\n",
    "lin_reggression2 = LinearRegression()\n",
    "lin_reggression2.fit(X_train, Y_train)\n",
    "Y_pred_scaled = lin_reggression2.predict(X_test)"
   ]
  },
  {
   "cell_type": "code",
   "execution_count": 1811,
   "metadata": {},
   "outputs": [
    {
     "data": {
      "image/png": "[encoded data removed]",
      "text/plain": [
       "<Figure size 432x288 with 1 Axes>"
      ]
     },
     "metadata": {
      "needs_background": "light"
     },
     "output_type": "display_data"
    }
   ],
   "source": [
    "fig, ax = plt.subplots()\n",
    "ax.scatter(Y_test, Y_pred_scaled)\n",
    "ax.set_xlabel(\"Prices: Y\")\n",
    "ax.set_ylabel(\"Predicted prices: Y_pred\")\n",
    "ax.set_title(\"Comptare real prices and predicted prices\")\n",
    "plt.show()"
   ]
  },
  {
   "cell_type": "code",
   "execution_count": 1812,
   "metadata": {},
   "outputs": [
    {
     "name": "stdout",
     "output_type": "stream",
     "text": [
      "MSE: 10.327131188617034\n"
     ]
    }
   ],
   "source": [
    "# Mean Squared Error after scaling\n",
    "MSE_scaled = mean_squared_error(Y_test, Y_pred_scaled)\n",
    "\n",
    "print(f\"MSE: {MSE_scaled}\")"
   ]
  },
  {
   "cell_type": "code",
   "execution_count": 1813,
   "metadata": {},
   "outputs": [
    {
     "name": "stdout",
     "output_type": "stream",
     "text": [
      "score: 1.0\n"
     ]
    }
   ],
   "source": [
    "# Model Score\n",
    "score_scaled = lin_reggression2.score(X_test, Y_pred_scaled)\n",
    "print(f\"score: {score_scaled}\")"
   ]
  },
  {
   "cell_type": "code",
   "execution_count": 1814,
   "metadata": {},
   "outputs": [
    {
     "name": "stdout",
     "output_type": "stream",
     "text": [
      "Lassor score: 0.7558665001028636\n"
     ]
    }
   ],
   "source": [
    "# Lasso model\n",
    "\n",
    "lasso_measure = Lasso(alpha=0.1)\n",
    "lasso_measure.fit(X_train, Y_train)\n",
    "y_pred_lasso = lasso_measure.predict(X_test)\n",
    "\n",
    "print(f\"Lassor score: {lasso_measure.score(X_test, Y_test)}\")\n"
   ]
  },
  {
   "cell_type": "code",
   "execution_count": 1815,
   "metadata": {},
   "outputs": [
    {
     "name": "stderr",
     "output_type": "stream",
     "text": [
      "C:\\ProgramData\\Anaconda3\\lib\\site-packages\\sklearn\\linear_model\\_coordinate_descent.py:647: ConvergenceWarning: Objective did not converge. You might want to increase the number of iterations, check the scale of the features or consider increasing regularisation. Duality gap: 1.182e+03, tolerance: 3.472e+00\n",
      "  model = cd_fast.enet_coordinate_descent(\n",
      "C:\\ProgramData\\Anaconda3\\lib\\site-packages\\sklearn\\linear_model\\_coordinate_descent.py:647: ConvergenceWarning: Objective did not converge. You might want to increase the number of iterations, check the scale of the features or consider increasing regularisation. Duality gap: 9.703e+02, tolerance: 3.472e+00\n",
      "  model = cd_fast.enet_coordinate_descent(\n",
      "C:\\ProgramData\\Anaconda3\\lib\\site-packages\\sklearn\\linear_model\\_coordinate_descent.py:647: ConvergenceWarning: Objective did not converge. You might want to increase the number of iterations, check the scale of the features or consider increasing regularisation. Duality gap: 2.381e+01, tolerance: 3.472e+00\n",
      "  model = cd_fast.enet_coordinate_descent(\n"
     ]
    }
   ],
   "source": [
    "# Lasso tested by alpha parameter\n",
    "\n",
    "alpha_values = [10**i for i in range(-4, 4)]\n",
    "score_lasso_values = [] # result\n",
    "\n",
    "for el in alpha_values:\n",
    "    lasso_tmp = Lasso(alpha=el)\n",
    "    lasso_tmp.fit(X_train, Y_train)\n",
    "    score_tmp = lasso_tmp.score(X_train, Y_train)\n",
    "    score_lasso_values.append(score_tmp)"
   ]
  },
  {
   "cell_type": "code",
   "execution_count": 1816,
   "metadata": {},
   "outputs": [
    {
     "data": {
      "image/png": "[encoded data removed]",
      "text/plain": [
       "<Figure size 432x288 with 1 Axes>"
      ]
     },
     "metadata": {
      "needs_background": "light"
     },
     "output_type": "display_data"
    }
   ],
   "source": [
    "# Dependency lasso score of alpha parameter\n",
    "fig, ax = plt.subplots()\n",
    "ax.semilogx(alpha_values, score_lasso_values)\n",
    "ax.set_xlabel(\"Alpha values\")\n",
    "ax.set_ylabel(\"Lasso scores values\")\n",
    "ax.set_title(\"Graph of the dependence of score on alpha\")\n",
    "plt.show()"
   ]
  },
  {
   "cell_type": "code",
   "execution_count": 1817,
   "metadata": {},
   "outputs": [
    {
     "name": "stdout",
     "output_type": "stream",
     "text": [
      "Ridge score: 0.7558665001028636\n"
     ]
    }
   ],
   "source": [
    "# Ridge model\n",
    "ridge_measure = Lasso(alpha=0.1)\n",
    "ridge_measure.fit(X_train, Y_train)\n",
    "y_pred_ridge = ridge_measure.predict(X_test)\n",
    "\n",
    "print(f\"Ridge score: {ridge_measure.score(X_test, Y_test)}\")"
   ]
  },
  {
   "cell_type": "code",
   "execution_count": 1818,
   "metadata": {},
   "outputs": [],
   "source": [
    "# Ridge tested by alpha parameter\n",
    "\n",
    "alpha_values = [10**i for i in range(-1, 7)]\n",
    "score_ridge_values = [] # result\n",
    "\n",
    "for el in alpha_values:\n",
    "    ridge_tmp = Ridge(alpha=el)\n",
    "    ridge_tmp.fit(X_train, Y_train)\n",
    "    score_tmp = ridge_tmp.score(X_train, Y_train)\n",
    "    score_ridge_values.append(score_tmp)"
   ]
  },
  {
   "cell_type": "code",
   "execution_count": 1819,
   "metadata": {},
   "outputs": [
    {
     "data": {
      "image/png": "[encoded data removed]",
      "text/plain": [
       "<Figure size 432x288 with 1 Axes>"
      ]
     },
     "metadata": {
      "needs_background": "light"
     },
     "output_type": "display_data"
    }
   ],
   "source": [
    "# Dependency ridge score of alpha parameter\n",
    "fig, ax = plt.subplots()\n",
    "ax.semilogx(alpha_values, score_ridge_values)\n",
    "ax.set_xlabel(\"Alpha values\")\n",
    "ax.set_ylabel(\"Ridge scores values\")\n",
    "ax.set_title(\"Graph of the dependence of score on alpha\")\n",
    "plt.show()"
   ]
  },
  {
   "cell_type": "markdown",
   "metadata": {},
   "source": [
    "## Regularization for logistic regression"
   ]
  },
  {
   "cell_type": "code",
   "execution_count": 1820,
   "metadata": {},
   "outputs": [
    {
     "data": {
      "text/plain": [
       "0      1      2      3      4      5      6      7      8      9      10     11     12     13     14     15     16     17     18     19     20     21     22     23     24     25     26     27     28     29   \n",
       "False  False  False  False  False  False  False  False  False  False  False  False  False  False  False  False  False  False  False  False  False  False  False  False  False  False  False  False  False  False    569\n",
       "dtype: int64"
      ]
     },
     "execution_count": 1820,
     "metadata": {},
     "output_type": "execute_result"
    }
   ],
   "source": [
    "# Loading cancer dataset\n",
    "data = load_breast_cancer()\n",
    "data_cancer = pd.DataFrame(data.data)\n",
    "\n",
    "# checking if dataset has null values\n",
    "data_cancer.isnull().isnull().value_counts()"
   ]
  },
  {
   "cell_type": "code",
   "execution_count": 1821,
   "metadata": {},
   "outputs": [],
   "source": [
    "# Devide dataset into training and testing\n",
    "\n",
    "data_cancer.columns = data.feature_names\n",
    "y_cancer = data.target\n",
    "\n",
    "X_train, X_test, Y_train, Y_test = train_test_split(data_cancer, y_cancer, test_size=0.2, random_state=15)"
   ]
  },
  {
   "cell_type": "code",
   "execution_count": 1822,
   "metadata": {},
   "outputs": [
    {
     "name": "stdout",
     "output_type": "stream",
     "text": [
      "Logistic reg score: 0.8947\n"
     ]
    }
   ],
   "source": [
    "# Logistic reggresion with regularization L1 and C = 1 regularization parameter\n",
    "logistic_reg = LogisticRegression(penalty=\"l1\", C=1, solver='liblinear', max_iter=50000)\n",
    "logistic_reg.fit(X_train, Y_train)\n",
    "Y_pred = logistic_reg.predict(X_test)\n",
    "\n",
    "score_cancer = logistic_reg.score(X_test, Y_test)\n",
    "print(f\"Logistic reg score: {round(score_cancer, 4)}\")"
   ]
  },
  {
   "cell_type": "code",
   "execution_count": 1823,
   "metadata": {},
   "outputs": [],
   "source": [
    "# Dependency graph: score by C value\n",
    "C_values = [10**i for i in range(-5, 2, 1)]\n",
    "score_C_values = [] # result\n",
    "\n",
    "for el in C_values:\n",
    "    log_reg_tmp = LogisticRegression(penalty=\"l2\", C=el, max_iter=1e4)\n",
    "    log_reg_tmp.fit(X_train, Y_train)\n",
    "    score_tmp = log_reg_tmp.score(X_train, Y_train)\n",
    "    score_C_values.append(score_tmp)\n"
   ]
  },
  {
   "cell_type": "code",
   "execution_count": 1824,
   "metadata": {},
   "outputs": [
    {
     "data": {
      "image/png": "[encoded data removed]",
      "text/plain": [
       "<Figure size 432x288 with 1 Axes>"
      ]
     },
     "metadata": {
      "needs_background": "light"
     },
     "output_type": "display_data"
    }
   ],
   "source": [
    "fig, ax = plt.subplots()\n",
    "ax.semilogx(C_values, score_C_values)\n",
    "ax.set_xlabel(\"C values\")\n",
    "ax.set_ylabel(\"Log reg scores values\")\n",
    "ax.set_title(\"Graph of the dependence of score on C\")\n",
    "plt.show()"
   ]
  },
  {
   "cell_type": "code",
   "execution_count": 1825,
   "metadata": {},
   "outputs": [
    {
     "name": "stdout",
     "output_type": "stream",
     "text": [
      "Max accuraccy 0.9123 is for k = 2\n"
     ]
    }
   ],
   "source": [
    "# Dependency accuraccy from k neighbours for KNN method\n",
    "\n",
    "k_values = [i for i in range(1,152)]\n",
    "acc_values = []\n",
    "\n",
    "for k in k_values:\n",
    "    knn_tmp = KNeighborsClassifier(n_neighbors = k)\n",
    "    knn_tmp.fit(X_train, Y_train)\n",
    "    y_pred = knn_tmp.predict(X_test)\n",
    "    acc_values.append(accuracy_score(Y_test, y_pred))\n",
    "\n",
    "\n",
    "print(f\"Max accuraccy {round(max(acc_values), 4)} is for k = {acc_values.index(max(acc_values))}\")\n"
   ]
  },
  {
   "cell_type": "code",
   "execution_count": 1826,
   "metadata": {},
   "outputs": [
    {
     "data": {
      "image/png": "[encoded data removed]",
      "text/plain": [
       "<Figure size 432x288 with 1 Axes>"
      ]
     },
     "metadata": {
      "needs_background": "light"
     },
     "output_type": "display_data"
    }
   ],
   "source": [
    "fig, ax = plt.subplots()\n",
    "ax.scatter(k_values, acc_values)\n",
    "ax.set_xlabel(f\"k values\")\n",
    "ax.set_ylabel(f\"Accuracy\")\n",
    "ax.set_title(f\"Dependeny plot accuracy by k values\")\n",
    "plt.show()"
   ]
  },
  {
   "cell_type": "markdown",
   "metadata": {},
   "source": [
    "## Decision Tree optimalization"
   ]
  },
  {
   "cell_type": "code",
   "execution_count": 1827,
   "metadata": {},
   "outputs": [
    {
     "name": "stdout",
     "output_type": "stream",
     "text": [
      "Max accuraccy 0.9561 is for depth = 3\n"
     ]
    }
   ],
   "source": [
    "# Dependency accuraccy of tree depth for decision Tree\n",
    "\n",
    "depth_values = [i for i in range(1,152)]\n",
    "acc_values = []\n",
    "\n",
    "for d in depth_values:\n",
    "    tree_tmp = DecisionTreeClassifier(max_depth=d)\n",
    "    tree_tmp.fit(X_train, Y_train)\n",
    "    y_pred = tree_tmp.predict(X_test)\n",
    "    acc_values.append(accuracy_score(Y_test, y_pred))\n",
    "\n",
    "\n",
    "print(f\"Max accuraccy {round(max(acc_values), 4)} is for depth = {acc_values.index(max(acc_values))}\")"
   ]
  },
  {
   "cell_type": "code",
   "execution_count": 1828,
   "metadata": {},
   "outputs": [
    {
     "data": {
      "image/png": "[encoded data removed]",
      "text/plain": [
       "<Figure size 432x288 with 1 Axes>"
      ]
     },
     "metadata": {
      "needs_background": "light"
     },
     "output_type": "display_data"
    }
   ],
   "source": [
    "fig, ax = plt.subplots()\n",
    "ax.scatter(depth_values, acc_values)\n",
    "ax.set_xlabel(f\"Depth values\")\n",
    "ax.set_ylabel(f\"Accuracy\")\n",
    "ax.set_title(f\"Dependency plot accuracy by depth values\")\n",
    "plt.show()"
   ]
  }
 ],
 "metadata": {
  "interpreter": {
   "hash": "b3ba2566441a7c06988d0923437866b63cedc61552a5af99d1f4fb67d367b25f"
  },
  "kernelspec": {
   "display_name": "Python 3.8.8 ('base')",
   "language": "python",
   "name": "python3"
  },
  "language_info": {
   "codemirror_mode": {
    "name": "ipython",
    "version": 3
   },
   "file_extension": ".py",
   "mimetype": "text/x-python",
   "name": "python",
   "nbconvert_exporter": "python",
   "pygments_lexer": "ipython3",
   "version": "3.8.5"
  },
  "orig_nbformat": 4
 },
 "nbformat": 4,
 "nbformat_minor": 2
}
